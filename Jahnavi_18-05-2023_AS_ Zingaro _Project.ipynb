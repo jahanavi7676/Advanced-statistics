{
 "cells": [
  {
   "cell_type": "markdown",
   "id": "2ab07ecb",
   "metadata": {},
   "source": [
    "Problem 5:\n",
    "\n",
    " \n",
    "\n",
    "Zingaro stone printing is a company that specializes in printing images or patterns on polished or unpolished stones. However, for the optimum level of printing of the image the stone surface has to have a Brinell's hardness index of at least 150. Recently, Zingaro has received a batch of polished and unpolished stones from its clients. Use the data provided to answer the following (assuming a 5% significance level);\n",
    "\n",
    " \n",
    "\n",
    "5.1 Earlier experience of Zingaro with this particular client is favorable as the stone surface was found to be of adequate hardness. However, Zingaro has reason to believe now that the unpolished stones may not be suitable for printing. Do you think Zingaro is justified in thinking so?\n",
    "\n",
    "5.2 Is the mean hardness of the polished and unpolished stones the same?"
   ]
  },
  {
   "cell_type": "code",
   "execution_count": 105,
   "id": "e3f44a96",
   "metadata": {},
   "outputs": [],
   "source": [
    "# import the important packages\n",
    "import pandas as pd \n",
    "import numpy as np \n",
    "import matplotlib.pyplot as plt \n",
    "import seaborn as sns  \n",
    "%matplotlib inline\n",
    "import scipy.stats as stats  \n",
    "from scipy.stats import norm\n",
    "from scipy.stats import   ttest_1samp , ttest_ind\n",
    "from statsmodels.formula.api import ols      # For n-way ANOVA\n",
    "from statsmodels.stats.anova import _get_covariance,anova_lm # For n-way ANOVA\n",
    "import statsmodels.stats.api as sm"
   ]
  },
  {
   "cell_type": "code",
   "execution_count": 134,
   "id": "fb0dfd6d",
   "metadata": {},
   "outputs": [],
   "source": [
    "d2=pd.read_csv('Zingaro_Company.csv')"
   ]
  },
  {
   "cell_type": "code",
   "execution_count": 135,
   "id": "2996f1d2",
   "metadata": {},
   "outputs": [
    {
     "data": {
      "text/html": [
       "<div>\n",
       "<style scoped>\n",
       "    .dataframe tbody tr th:only-of-type {\n",
       "        vertical-align: middle;\n",
       "    }\n",
       "\n",
       "    .dataframe tbody tr th {\n",
       "        vertical-align: top;\n",
       "    }\n",
       "\n",
       "    .dataframe thead th {\n",
       "        text-align: right;\n",
       "    }\n",
       "</style>\n",
       "<table border=\"1\" class=\"dataframe\">\n",
       "  <thead>\n",
       "    <tr style=\"text-align: right;\">\n",
       "      <th></th>\n",
       "      <th>Unpolished</th>\n",
       "      <th>Treated and Polished</th>\n",
       "    </tr>\n",
       "  </thead>\n",
       "  <tbody>\n",
       "    <tr>\n",
       "      <th>0</th>\n",
       "      <td>164.481713</td>\n",
       "      <td>133.209393</td>\n",
       "    </tr>\n",
       "    <tr>\n",
       "      <th>1</th>\n",
       "      <td>154.307045</td>\n",
       "      <td>138.482771</td>\n",
       "    </tr>\n",
       "    <tr>\n",
       "      <th>2</th>\n",
       "      <td>129.861048</td>\n",
       "      <td>159.665201</td>\n",
       "    </tr>\n",
       "    <tr>\n",
       "      <th>3</th>\n",
       "      <td>159.096184</td>\n",
       "      <td>145.663528</td>\n",
       "    </tr>\n",
       "    <tr>\n",
       "      <th>4</th>\n",
       "      <td>135.256748</td>\n",
       "      <td>136.789227</td>\n",
       "    </tr>\n",
       "  </tbody>\n",
       "</table>\n",
       "</div>"
      ],
      "text/plain": [
       "   Unpolished   Treated and Polished\n",
       "0   164.481713            133.209393\n",
       "1   154.307045            138.482771\n",
       "2   129.861048            159.665201\n",
       "3   159.096184            145.663528\n",
       "4   135.256748            136.789227"
      ]
     },
     "execution_count": 135,
     "metadata": {},
     "output_type": "execute_result"
    }
   ],
   "source": [
    "d2.head()"
   ]
  },
  {
   "cell_type": "code",
   "execution_count": 136,
   "id": "84a2aa77",
   "metadata": {},
   "outputs": [
    {
     "name": "stdout",
     "output_type": "stream",
     "text": [
      "<class 'pandas.core.frame.DataFrame'>\n",
      "RangeIndex: 75 entries, 0 to 74\n",
      "Data columns (total 2 columns):\n",
      " #   Column                Non-Null Count  Dtype  \n",
      "---  ------                --------------  -----  \n",
      " 0   Unpolished            75 non-null     float64\n",
      " 1   Treated and Polished  75 non-null     float64\n",
      "dtypes: float64(2)\n",
      "memory usage: 1.3 KB\n"
     ]
    }
   ],
   "source": [
    "d2.info();"
   ]
  },
  {
   "cell_type": "markdown",
   "id": "4a6529a7",
   "metadata": {},
   "source": [
    "Step 1: Define null and alternative hypotheses\n",
    "\n",
    "H0=Mean Brinell’s hardness Index of unpolished stone surface is greater than or equal to 150. \n",
    "\n",
    "Ha= Mean Brinell’s hardness Index of unpolished stone surface is less than 150.\n",
    "\n",
    "OR\n",
    "\n",
    "𝐻0 :  𝜇  => 150\n",
    "\n",
    "𝐻𝐴 :  𝜇  <  150\n",
    "\n"
   ]
  },
  {
   "cell_type": "markdown",
   "id": "49681758",
   "metadata": {},
   "source": [
    "Step 2: Decide the significance level\n",
    "Here we select 𝛼 = 0.05."
   ]
  },
  {
   "cell_type": "code",
   "execution_count": 137,
   "id": "d7cc7cf7",
   "metadata": {},
   "outputs": [
    {
     "name": "stdout",
     "output_type": "stream",
     "text": [
      "The sample size for this problem is 75 .\n"
     ]
    }
   ],
   "source": [
    "print(\"The sample size for this problem is\",len(d2),'.')"
   ]
  },
  {
   "cell_type": "markdown",
   "id": "f2347e9e",
   "metadata": {},
   "source": [
    "Step 3: Identify the test statistic\n",
    "We do not know the population standard deviation although the sample size is more than 30 still we use the t distribution and the  𝑡𝑆𝑇𝐴𝑇  test statistic."
   ]
  },
  {
   "cell_type": "markdown",
   "id": "b9bf3d71",
   "metadata": {},
   "source": [
    "Step 4: Calculate the p - value and test statistic\n",
    "\n",
    "scipy.stats.ttest_1samp calculates the t test for the mean of one sample given the sample observations and the expected value in the null hypothesis. This function returns t statistic and the two-tailed p value. Here we will need answer in one tailed p value and that too "
   ]
  },
  {
   "cell_type": "code",
   "execution_count": 138,
   "id": "3b4ea470",
   "metadata": {},
   "outputs": [
    {
     "name": "stdout",
     "output_type": "stream",
     "text": [
      "One sample t test \n",
      "t statistic: [-4.1646296  -1.22891066] p value: [8.34257399e-05 2.22998968e-01] \n"
     ]
    }
   ],
   "source": [
    "# one sample t-test\n",
    "# null hypothesis: expected value = 150\n",
    "t_statistic, p_value = ttest_1samp(d2, 150)\n",
    "print('One sample t test \\nt statistic: {0} p value: {1} '.format(t_statistic, p_value))"
   ]
  },
  {
   "cell_type": "code",
   "execution_count": 139,
   "id": "5b8928b3",
   "metadata": {},
   "outputs": [
    {
     "data": {
      "text/plain": [
       "4.171286995e-05"
      ]
     },
     "execution_count": 139,
     "metadata": {},
     "output_type": "execute_result"
    }
   ],
   "source": [
    "#p/2\n",
    "8.34257399e-05/2"
   ]
  },
  {
   "cell_type": "markdown",
   "id": "481f11df",
   "metadata": {},
   "source": [
    "So here for unpolished stones t statistic=-4.1 and p value for unploished stones is 4.171286995e-05"
   ]
  },
  {
   "cell_type": "markdown",
   "id": "7c3fb7da",
   "metadata": {},
   "source": [
    "Step 5 Decide to reject or accept null hypothesis\n",
    "Level of significance: 0.05\n",
    "\n",
    "We reject the null hypothesis since p value < Level of significance\n",
    "\n",
    "So the statistical decision is we reject the null hypothesis at 5% level of significance.\n",
    "\n",
    "It means that there is sufficient evidence for Zingaro stone printing company to believe that unpolished stones are not suitable for printing, that is they have Brinell’s hardness index of less than 150. "
   ]
  },
  {
   "cell_type": "markdown",
   "id": "e31350be",
   "metadata": {},
   "source": [
    "Answer 5.2"
   ]
  },
  {
   "cell_type": "code",
   "execution_count": 140,
   "id": "581f512c",
   "metadata": {},
   "outputs": [
    {
     "data": {
      "text/plain": [
       "147.78811718133335"
      ]
     },
     "execution_count": 140,
     "metadata": {},
     "output_type": "execute_result"
    }
   ],
   "source": [
    "d2['Treated and Polished'].mean()"
   ]
  },
  {
   "cell_type": "code",
   "execution_count": 141,
   "id": "da5b292a",
   "metadata": {},
   "outputs": [
    {
     "data": {
      "text/plain": [
       "134.11052653373335"
      ]
     },
     "execution_count": 141,
     "metadata": {},
     "output_type": "execute_result"
    }
   ],
   "source": [
    "d2['Unpolished '].mean()"
   ]
  },
  {
   "cell_type": "markdown",
   "id": "2df92168",
   "metadata": {},
   "source": [
    "Mean for Unpolished is 134.11 and for Treated and Polished is 147.79. Therefore, the mean is not same"
   ]
  }
 ],
 "metadata": {
  "kernelspec": {
   "display_name": "Python 3 (ipykernel)",
   "language": "python",
   "name": "python3"
  },
  "language_info": {
   "codemirror_mode": {
    "name": "ipython",
    "version": 3
   },
   "file_extension": ".py",
   "mimetype": "text/x-python",
   "name": "python",
   "nbconvert_exporter": "python",
   "pygments_lexer": "ipython3",
   "version": "3.9.7"
  }
 },
 "nbformat": 4,
 "nbformat_minor": 5
}
