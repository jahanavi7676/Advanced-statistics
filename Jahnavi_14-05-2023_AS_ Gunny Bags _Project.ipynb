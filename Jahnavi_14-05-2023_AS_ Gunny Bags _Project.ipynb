{
 "cells": [
  {
   "cell_type": "markdown",
   "id": "39551af0",
   "metadata": {},
   "source": [
    "Problem 3:\n",
    "\n",
    "The breaking strength of gunny bags used for packaging cement is normally distributed with a mean of 5 kg per sq. centimeter and a standard deviation of 1.5 kg per sq. centimeter. The quality team of the cement company wants to know the following about the packaging material to better understand wastage or pilferage within the supply chain; Answer the questions below based on the given information; (Provide an appropriate visual representation of your answers, without which marks will be deducted)\n"
   ]
  },
  {
   "cell_type": "code",
   "execution_count": 1,
   "id": "e3f44a96",
   "metadata": {},
   "outputs": [],
   "source": [
    "# import the important packages\n",
    "import pandas as pd \n",
    "import numpy as np \n",
    "import matplotlib.pyplot as plt \n",
    "import seaborn as sns  \n",
    "%matplotlib inline\n",
    "import scipy.stats as stats  \n",
    "from scipy.stats import norm\n",
    "from scipy.stats import   ttest_1samp , ttest_ind\n",
    "from statsmodels.formula.api import ols      # For n-way ANOVA\n",
    "from statsmodels.stats.anova import _get_covariance,anova_lm # For n-way ANOVA\n",
    "import statsmodels.stats.api as sm"
   ]
  },
  {
   "cell_type": "markdown",
   "id": "41b0bec0",
   "metadata": {},
   "source": [
    "\n",
    "3.1 What proportion of the gunny bags have a breaking strength less than 3.17 kg per sq cm?"
   ]
  },
  {
   "cell_type": "code",
   "execution_count": 116,
   "id": "051457c7",
   "metadata": {},
   "outputs": [
    {
     "data": {
      "text/plain": [
       "-1.22"
      ]
     },
     "execution_count": 116,
     "metadata": {},
     "output_type": "execute_result"
    }
   ],
   "source": [
    "#mean = μ=5Kg/Sq.cm\n",
    "#Sigma= σ= 1.5Kg/Sq.cm\n",
    "#Gunny bags Strength <3.17Kg/Sq.cm\n",
    "#z= Z = (x-μ)/σ\n",
    "z=((3.17-5)/1.5)\n",
    "z"
   ]
  },
  {
   "cell_type": "code",
   "execution_count": 117,
   "id": "2965a832",
   "metadata": {},
   "outputs": [
    {
     "data": {
      "image/png": "[encoded data removed]",
      "text/plain": [
       "<Figure size 432x288 with 1 Axes>"
      ]
     },
     "metadata": {
      "needs_background": "light"
     },
     "output_type": "display_data"
    }
   ],
   "source": [
    "x=np.linspace(-4,4,100)\n",
    "plt.plot(x,norm.pdf(x,0,1))\n",
    "plt.axvline(x=z,c='r')\n",
    "plt.show()"
   ]
  },
  {
   "cell_type": "code",
   "execution_count": 118,
   "id": "479d76fd",
   "metadata": {},
   "outputs": [
    {
     "data": {
      "text/plain": [
       "0.1112"
      ]
     },
     "execution_count": 118,
     "metadata": {},
     "output_type": "execute_result"
    }
   ],
   "source": [
    "round(stats.norm.cdf(3.17,loc=5,scale=1.5), 4)"
   ]
  },
  {
   "cell_type": "markdown",
   "id": "b83477ed",
   "metadata": {},
   "source": [
    "11.12% proportion of the gunny bags have a breaking strength less than 3.17 kg per sq cm"
   ]
  },
  {
   "cell_type": "markdown",
   "id": "41561ea5",
   "metadata": {},
   "source": [
    "3.2 What proportion of the gunny bags have a breaking strength at least 3.6 kg per sq cm.?\n"
   ]
  },
  {
   "cell_type": "code",
   "execution_count": 119,
   "id": "4e057147",
   "metadata": {},
   "outputs": [
    {
     "data": {
      "text/plain": [
       "-0.9333333333333332"
      ]
     },
     "execution_count": 119,
     "metadata": {},
     "output_type": "execute_result"
    }
   ],
   "source": [
    "#μ=5Kg/Sq.cm\n",
    "#σ=1.5Kg/Sq.cm\n",
    "#z= Z = (x-μ)/σ\n",
    "Z=((3.6-5)/1.5)\n",
    "Z"
   ]
  },
  {
   "cell_type": "code",
   "execution_count": 120,
   "id": "1c9bcf86",
   "metadata": {},
   "outputs": [
    {
     "data": {
      "image/png": "[encoded data removed]",
      "text/plain": [
       "<Figure size 432x288 with 1 Axes>"
      ]
     },
     "metadata": {
      "needs_background": "light"
     },
     "output_type": "display_data"
    }
   ],
   "source": [
    "x=np.linspace(-4,4,100)\n",
    "plt.plot(x,norm.pdf(x,0,1))\n",
    "plt.axvline(x=Z,c='r')\n",
    "plt.show()"
   ]
  },
  {
   "cell_type": "code",
   "execution_count": 121,
   "id": "6116ba6a",
   "metadata": {},
   "outputs": [
    {
     "data": {
      "text/plain": [
       "0.8247"
      ]
     },
     "execution_count": 121,
     "metadata": {},
     "output_type": "execute_result"
    }
   ],
   "source": [
    "\n",
    "round(1-stats.norm.cdf(3.6,loc=5,scale=1.5),4)"
   ]
  },
  {
   "cell_type": "markdown",
   "id": "9ca94c7b",
   "metadata": {},
   "source": [
    "82.45% of the gunny bags have a breaking strength at least 3.6 kg per sq cm."
   ]
  },
  {
   "cell_type": "markdown",
   "id": "42e51af5",
   "metadata": {},
   "source": [
    "3.3 What proportion of the gunny bags have a breaking strength between 5 and 5.5 kg per sq cm.?"
   ]
  },
  {
   "cell_type": "code",
   "execution_count": 122,
   "id": "8004735f",
   "metadata": {},
   "outputs": [
    {
     "data": {
      "text/plain": [
       "0.0"
      ]
     },
     "execution_count": 122,
     "metadata": {},
     "output_type": "execute_result"
    }
   ],
   "source": [
    "#μ=5Kg/Sq.cm\n",
    "#σ=1.5Kg/Sq.cm\n",
    "#z= Z = (x-μ)/σ\n",
    "z1=((5-5)/1.5)\n",
    "z1"
   ]
  },
  {
   "cell_type": "code",
   "execution_count": 123,
   "id": "b1568566",
   "metadata": {},
   "outputs": [
    {
     "data": {
      "text/plain": [
       "0.3333333333333333"
      ]
     },
     "execution_count": 123,
     "metadata": {},
     "output_type": "execute_result"
    }
   ],
   "source": [
    "#μ=5Kg/Sq.cm\n",
    "#σ=1.5Kg/Sq.cm\n",
    "#z= Z = (x-μ)/σ\n",
    "z2=((5.5-5)/1.5)\n",
    "z2"
   ]
  },
  {
   "cell_type": "code",
   "execution_count": 124,
   "id": "a51ef7b3",
   "metadata": {},
   "outputs": [
    {
     "data": {
      "image/png": "[encoded data removed]",
      "text/plain": [
       "<Figure size 432x288 with 1 Axes>"
      ]
     },
     "metadata": {
      "needs_background": "light"
     },
     "output_type": "display_data"
    }
   ],
   "source": [
    "x=np.linspace(-4,4,100)\n",
    "plt.plot(x,norm.pdf(x,0,1))\n",
    "plt.axvline(x=z1,c='r')\n",
    "plt.axvline(x=z2,c='r')\n",
    "plt.show()"
   ]
  },
  {
   "cell_type": "code",
   "execution_count": 125,
   "id": "3327937a",
   "metadata": {},
   "outputs": [
    {
     "data": {
      "text/plain": [
       "0.1306"
      ]
     },
     "execution_count": 125,
     "metadata": {},
     "output_type": "execute_result"
    }
   ],
   "source": [
    "round(stats.norm.cdf(5.5,loc=5,scale=1.5)-stats.norm.cdf(5,5,1.5),4)"
   ]
  },
  {
   "cell_type": "markdown",
   "id": "4998e4e5",
   "metadata": {},
   "source": [
    "13.06% of gunny bags have a breaking strength between 5 and 5.5 kg per sq cm."
   ]
  },
  {
   "cell_type": "markdown",
   "id": "ce62f22f",
   "metadata": {},
   "source": [
    "3.4 What proportion of the gunny bags have a breaking strength NOT between 3 and 7.5 kg per sq cm.?"
   ]
  },
  {
   "cell_type": "code",
   "execution_count": 126,
   "id": "35c9f4f0",
   "metadata": {},
   "outputs": [
    {
     "data": {
      "text/plain": [
       "-1.3333333333333333"
      ]
     },
     "execution_count": 126,
     "metadata": {},
     "output_type": "execute_result"
    }
   ],
   "source": [
    "#μ=5Kg/Sq.cm\n",
    "#σ=1.5Kg/Sq.cm\n",
    "#z= Z = (x-μ)/σ\n",
    "Z1=((3-5)/1.5)\n",
    "Z1"
   ]
  },
  {
   "cell_type": "code",
   "execution_count": 127,
   "id": "37f696d8",
   "metadata": {},
   "outputs": [
    {
     "data": {
      "text/plain": [
       "1.6666666666666667"
      ]
     },
     "execution_count": 127,
     "metadata": {},
     "output_type": "execute_result"
    }
   ],
   "source": [
    "#μ=5Kg/Sq.cm\n",
    "#σ=1.5Kg/Sq.cm\n",
    "#z= Z = (x-μ)/σ\n",
    "Z2=((7.5-5)/1.5)\n",
    "Z2"
   ]
  },
  {
   "cell_type": "code",
   "execution_count": 128,
   "id": "544c0cc8",
   "metadata": {},
   "outputs": [
    {
     "data": {
      "image/png": "[encoded data removed]",
      "text/plain": [
       "<Figure size 432x288 with 1 Axes>"
      ]
     },
     "metadata": {
      "needs_background": "light"
     },
     "output_type": "display_data"
    }
   ],
   "source": [
    "x=np.linspace(-4,4,100)\n",
    "plt.plot(x,norm.pdf(x,0,1))\n",
    "plt.axvline(x=Z1,c='r')\n",
    "plt.axvline(x=Z2,c='r')\n",
    "plt.show()"
   ]
  },
  {
   "cell_type": "code",
   "execution_count": 129,
   "id": "b06fc75e",
   "metadata": {},
   "outputs": [
    {
     "data": {
      "text/plain": [
       "0.86"
      ]
     },
     "execution_count": 129,
     "metadata": {},
     "output_type": "execute_result"
    }
   ],
   "source": [
    "#3.4\n",
    "round(stats.norm.cdf(7.5,5,1.5)-stats.norm.cdf(3,5,1.5),2)\n"
   ]
  },
  {
   "cell_type": "code",
   "execution_count": 130,
   "id": "559b3c2d",
   "metadata": {},
   "outputs": [
    {
     "data": {
      "text/plain": [
       "0.14"
      ]
     },
     "execution_count": 130,
     "metadata": {},
     "output_type": "execute_result"
    }
   ],
   "source": [
    "1-0.86"
   ]
  },
  {
   "cell_type": "markdown",
   "id": "ef987d16",
   "metadata": {},
   "source": [
    "14% of proportion of the gunny bags have a breaking strength NOT between 3 and 7.5 kg per sq cm."
   ]
  },
  {
   "cell_type": "code",
   "execution_count": null,
   "id": "10c31872",
   "metadata": {},
   "outputs": [],
   "source": []
  }
 ],
 "metadata": {
  "kernelspec": {
   "display_name": "Python 3 (ipykernel)",
   "language": "python",
   "name": "python3"
  },
  "language_info": {
   "codemirror_mode": {
    "name": "ipython",
    "version": 3
   },
   "file_extension": ".py",
   "mimetype": "text/x-python",
   "name": "python",
   "nbconvert_exporter": "python",
   "pygments_lexer": "ipython3",
   "version": "3.9.7"
  }
 },
 "nbformat": 4,
 "nbformat_minor": 5
}
