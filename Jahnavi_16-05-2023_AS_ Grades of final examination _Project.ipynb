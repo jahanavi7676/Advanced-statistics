{
 "cells": [
  {
   "cell_type": "markdown",
   "id": "a58505f5",
   "metadata": {},
   "source": [
    "Problem 4:\n",
    "Grades of the final examination in a training course are found to be normally distributed, with a mean of 77 and a standard deviation of 8.5. Based on the given information answer the questions below.\n"
   ]
  },
  {
   "cell_type": "code",
   "execution_count": 1,
   "id": "e3f44a96",
   "metadata": {},
   "outputs": [],
   "source": [
    "# import the important packages\n",
    "import pandas as pd \n",
    "import numpy as np \n",
    "import matplotlib.pyplot as plt \n",
    "import seaborn as sns  \n",
    "%matplotlib inline\n",
    "import scipy.stats as stats  \n",
    "from scipy.stats import norm\n",
    "from scipy.stats import   ttest_1samp , ttest_ind\n",
    "from statsmodels.formula.api import ols      # For n-way ANOVA\n",
    "from statsmodels.stats.anova import _get_covariance,anova_lm # For n-way ANOVA\n",
    "import statsmodels.stats.api as sm"
   ]
  },
  {
   "cell_type": "markdown",
   "id": "df3b8adc",
   "metadata": {},
   "source": [
    "4.1 What is the probability that a randomly chosen student gets a grade below 85 on this exam?"
   ]
  },
  {
   "cell_type": "code",
   "execution_count": 131,
   "id": "e450edde",
   "metadata": {},
   "outputs": [
    {
     "data": {
      "text/plain": [
       "0.8267"
      ]
     },
     "execution_count": 131,
     "metadata": {},
     "output_type": "execute_result"
    }
   ],
   "source": [
    "#μ=77\n",
    "#σ=8.5\n",
    "round(stats.norm.cdf(85,loc=77,scale=8.5), 4)"
   ]
  },
  {
   "cell_type": "markdown",
   "id": "f98d5210",
   "metadata": {},
   "source": [
    "82.66% of student gets a grade below 85 on this exam"
   ]
  },
  {
   "cell_type": "markdown",
   "id": "e3254754",
   "metadata": {},
   "source": [
    "4.2 What is the probability that a randomly selected student scores between 65 and 87?"
   ]
  },
  {
   "cell_type": "code",
   "execution_count": 132,
   "id": "09001d67",
   "metadata": {},
   "outputs": [
    {
     "data": {
      "text/plain": [
       "0.8012869336779058"
      ]
     },
     "execution_count": 132,
     "metadata": {},
     "output_type": "execute_result"
    }
   ],
   "source": [
    "stats.norm.cdf(87,77,8.5)-stats.norm.cdf(65,77,8.5)"
   ]
  },
  {
   "cell_type": "markdown",
   "id": "d5048cdd",
   "metadata": {},
   "source": [
    "80.12% is the probability that a randomly selected student scores between 65 and 87."
   ]
  },
  {
   "cell_type": "markdown",
   "id": "bc46db53",
   "metadata": {},
   "source": [
    "4.3 What should be the passing cut-off so that 75% of the students clear the exam?"
   ]
  },
  {
   "cell_type": "code",
   "execution_count": 133,
   "id": "cdc506bb",
   "metadata": {},
   "outputs": [
    {
     "data": {
      "text/plain": [
       "82.7332"
      ]
     },
     "execution_count": 133,
     "metadata": {},
     "output_type": "execute_result"
    }
   ],
   "source": [
    "round(stats.norm.ppf(0.75,77,8.5),4)"
   ]
  },
  {
   "cell_type": "markdown",
   "id": "a2ac997f",
   "metadata": {},
   "source": [
    "82.73 marks is the passing cut-off so that 75% of the students clear the exam."
   ]
  },
  {
   "cell_type": "code",
   "execution_count": null,
   "id": "10c31872",
   "metadata": {},
   "outputs": [],
   "source": []
  }
 ],
 "metadata": {
  "kernelspec": {
   "display_name": "Python 3 (ipykernel)",
   "language": "python",
   "name": "python3"
  },
  "language_info": {
   "codemirror_mode": {
    "name": "ipython",
    "version": 3
   },
   "file_extension": ".py",
   "mimetype": "text/x-python",
   "name": "python",
   "nbconvert_exporter": "python",
   "pygments_lexer": "ipython3",
   "version": "3.9.7"
  }
 },
 "nbformat": 4,
 "nbformat_minor": 5
}
