{
 "cells": [
  {
   "cell_type": "markdown",
   "id": "23b4bc5b",
   "metadata": {},
   "source": [
    "Problem 2:\n",
    "\n",
    "An independent research organization is trying to estimate the probability that an accident at a nuclear power plant will result in radiation leakage. The types of accidents possible at the plant are, fire hazards, mechanical failure, or human error. The research organization also knows that two or more types of accidents cannot occur simultaneously.\n",
    "\n",
    "According to the studies carried out by the organization, the probability of a radiation leak in case of a fire is 20%, the probability of a radiation leak in case of a mechanical 50%, and the probability of a radiation leak in case of a human error is 10%. The studies also showed the following;\n",
    "\n",
    "The probability of a radiation leak occurring simultaneously with a fire is 0.1%.\n",
    "The probability of a radiation leak occurring simultaneously with a mechanical failure is 0.15%.\n",
    "The probability of a radiation leak occurring simultaneously with a human error is 0.12%.\n",
    "On the basis of the information available, answer the questions below:"
   ]
  },
  {
   "cell_type": "code",
   "execution_count": 1,
   "id": "e3f44a96",
   "metadata": {},
   "outputs": [],
   "source": [
    "# import the important packages\n",
    "import pandas as pd \n",
    "import numpy as np \n",
    "import matplotlib.pyplot as plt \n",
    "import seaborn as sns  \n",
    "%matplotlib inline\n",
    "import scipy.stats as stats  \n",
    "from scipy.stats import norm\n",
    "from scipy.stats import   ttest_1samp , ttest_ind\n",
    "from statsmodels.formula.api import ols      # For n-way ANOVA\n",
    "from statsmodels.stats.anova import _get_covariance,anova_lm # For n-way ANOVA\n",
    "import statsmodels.stats.api as sm"
   ]
  },
  {
   "cell_type": "markdown",
   "id": "4d6ed5cf",
   "metadata": {},
   "source": [
    "2.1 What are the probabilities of a fire, a mechanical failure, and a human error respectively?"
   ]
  },
  {
   "cell_type": "code",
   "execution_count": 2,
   "id": "241c6d2c",
   "metadata": {},
   "outputs": [
    {
     "name": "stdout",
     "output_type": "stream",
     "text": [
      "Probility of Fire is 0.005\n",
      "Probability of Mechanical Fairlure is 0.003\n",
      "Probability of HumanError is  0.012\n"
     ]
    }
   ],
   "source": [
    "Pr_of_radiation_leak_in_case_of_fire=20\n",
    "Pr_of_radiation_lea_with_fire=0.1\n",
    "Pr_of_radiation_lea_in_case_MF=50\n",
    "Pr_of_radiation_lea_with_MF=0.15\n",
    "Pr_of_radiation_lea_in_case_HE=10\n",
    "Pr_of_radiation_lea_with_HE=0.12\n",
    "\n",
    "print('Probility of Fire is', Pr_of_radiation_lea_with_fire/Pr_of_radiation_leak_in_case_of_fire )\n",
    "\n",
    "\n",
    "print('Probability of Mechanical Fairlure is',Pr_of_radiation_lea_with_MF/Pr_of_radiation_lea_in_case_MF)\n",
    "\n",
    "\n",
    "print('Probability of HumanError is ', Pr_of_radiation_lea_with_HE/Pr_of_radiation_lea_in_case_HE)"
   ]
  },
  {
   "cell_type": "markdown",
   "id": "89f449d0",
   "metadata": {},
   "source": [
    "2.2 What is the probability of a radiation leak?"
   ]
  },
  {
   "cell_type": "code",
   "execution_count": 112,
   "id": "aed1a765",
   "metadata": {},
   "outputs": [
    {
     "name": "stdout",
     "output_type": "stream",
     "text": [
      "the probability of a radiation leak = 0.37\n"
     ]
    }
   ],
   "source": [
    "a=Pr_of_radiation_lea_with_fire+Pr_of_radiation_lea_with_MF+Pr_of_radiation_lea_with_HE\n",
    "print('the probability of a radiation leak =',a)\n"
   ]
  },
  {
   "cell_type": "markdown",
   "id": "caaf51ce",
   "metadata": {},
   "source": [
    "2.3 Suppose there has been a radiation leak in the reactor for which the definite cause is not known. What is the probability that it has been caused by:\n",
    "\n",
    "A Fire.\n",
    "\n"
   ]
  },
  {
   "cell_type": "code",
   "execution_count": 113,
   "id": "60b80958",
   "metadata": {},
   "outputs": [
    {
     "name": "stdout",
     "output_type": "stream",
     "text": [
      "The probability that it has been caused by a Fire = 0.27\n"
     ]
    }
   ],
   "source": [
    "Proability_of_fire=0.1/0.37\n",
    "print('The probability that it has been caused by a Fire =',round(Proability_of_fire,2))"
   ]
  },
  {
   "cell_type": "markdown",
   "id": "636cff6a",
   "metadata": {},
   "source": [
    "A Mechanical Failure."
   ]
  },
  {
   "cell_type": "code",
   "execution_count": 5,
   "id": "9e59ac7e",
   "metadata": {},
   "outputs": [
    {
     "name": "stdout",
     "output_type": "stream",
     "text": [
      "The probability that it has been caused by a Mechanical Failure  = 0.41\n"
     ]
    }
   ],
   "source": [
    "Probability_of_mechanical_failure=0.15/0.37\n",
    "print('The probability that it has been caused by a Mechanical Failure  =',round(Probability_of_mechanical_failure,2))"
   ]
  },
  {
   "cell_type": "markdown",
   "id": "fcc1b22f",
   "metadata": {},
   "source": [
    "A Human Error."
   ]
  },
  {
   "cell_type": "code",
   "execution_count": 6,
   "id": "31dd80fc",
   "metadata": {},
   "outputs": [
    {
     "name": "stdout",
     "output_type": "stream",
     "text": [
      "The probability that it has been caused by a Human Error  = 0.32\n"
     ]
    }
   ],
   "source": [
    "Probability_of_a_human_error=0.12/0.37\n",
    "print('The probability that it has been caused by a Human Error  =',round(Probability_of_a_human_error,2))"
   ]
  },
  {
   "cell_type": "code",
   "execution_count": null,
   "id": "10c31872",
   "metadata": {},
   "outputs": [],
   "source": []
  }
 ],
 "metadata": {
  "kernelspec": {
   "display_name": "Python 3 (ipykernel)",
   "language": "python",
   "name": "python3"
  },
  "language_info": {
   "codemirror_mode": {
    "name": "ipython",
    "version": 3
   },
   "file_extension": ".py",
   "mimetype": "text/x-python",
   "name": "python",
   "nbconvert_exporter": "python",
   "pygments_lexer": "ipython3",
   "version": "3.9.7"
  }
 },
 "nbformat": 4,
 "nbformat_minor": 5
}
