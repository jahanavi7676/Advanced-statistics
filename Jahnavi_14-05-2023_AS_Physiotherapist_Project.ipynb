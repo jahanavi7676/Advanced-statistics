{
 "cells": [
  {
   "cell_type": "code",
   "execution_count": 1,
   "id": "e3f44a96",
   "metadata": {},
   "outputs": [],
   "source": [
    "# import the important packages\n",
    "import pandas as pd \n",
    "import numpy as np \n",
    "import matplotlib.pyplot as plt \n",
    "import seaborn as sns  \n",
    "%matplotlib inline\n",
    "import scipy.stats as stats  \n",
    "from scipy.stats import norm\n",
    "from scipy.stats import   ttest_1samp , ttest_ind\n",
    "from statsmodels.formula.api import ols      # For n-way ANOVA\n",
    "from statsmodels.stats.anova import _get_covariance,anova_lm # For n-way ANOVA\n",
    "import statsmodels.stats.api as sm"
   ]
  },
  {
   "cell_type": "markdown",
   "id": "e1303556",
   "metadata": {},
   "source": [
    "Problem 1: A physiotherapist with a male football team is interested in studying the relationship between foot injuries and the positions at which the players play from the data collected "
   ]
  },
  {
   "cell_type": "markdown",
   "id": "3f1460c0",
   "metadata": {},
   "source": [
    "1.1 What is the probability that a randomly chosen player would suffer an injury?"
   ]
  },
  {
   "cell_type": "code",
   "execution_count": 3,
   "id": "d8e05f39",
   "metadata": {},
   "outputs": [
    {
     "name": "stdout",
     "output_type": "stream",
     "text": [
      "The probability that a randomly chosen player would suffer an injury is  0.62\n"
     ]
    }
   ],
   "source": [
    "Total_number_of_players_injured=145\n",
    "Total_number_of_players_altogether=235\n",
    "print('The probability that a randomly chosen player would suffer an injury is ', round(Total_number_of_players_injured/Total_number_of_players_altogether,2) )"
   ]
  },
  {
   "cell_type": "markdown",
   "id": "2bacf398",
   "metadata": {},
   "source": [
    "1.2 What is the probability that a player is a forward or a winger?"
   ]
  },
  {
   "cell_type": "code",
   "execution_count": 4,
   "id": "a4bd9df7",
   "metadata": {},
   "outputs": [
    {
     "name": "stdout",
     "output_type": "stream",
     "text": [
      "The probabaility that a player is a forward or a winger  0.52\n"
     ]
    }
   ],
   "source": [
    "total_number_of_forward_players=94\n",
    "total_number_of_winger=29\n",
    "total_number_of_players=235\n",
    "a=total_number_of_forward_players+total_number_of_winger\n",
    "print('The probabaility that a player is a forward or a winger ', round(a/total_number_of_players,2))"
   ]
  },
  {
   "cell_type": "markdown",
   "id": "25704841",
   "metadata": {},
   "source": [
    "1.3 What is the probability that a randomly chosen player plays in a striker position and has a foot injury?"
   ]
  },
  {
   "cell_type": "code",
   "execution_count": 108,
   "id": "115c0a34",
   "metadata": {},
   "outputs": [
    {
     "name": "stdout",
     "output_type": "stream",
     "text": [
      "The probability that a randomly chosen player plays in a striker position and has a foot injury = 0.58\n"
     ]
    }
   ],
   "source": [
    "Total_number_of_strikers_in_the_injured_category=45\n",
    "Total_number_of_players_which_are_strikers=77\n",
    "print('The probability that a randomly chosen player plays in a striker position and has a foot injury =',round(Total_number_of_strikers_in_the_injured_category/Total_number_of_players_which_are_strikers,2))"
   ]
  },
  {
   "cell_type": "markdown",
   "id": "f0e1728a",
   "metadata": {},
   "source": [
    "1.4 What is the probability that a randomly chosen injured player is a striker?"
   ]
  },
  {
   "cell_type": "code",
   "execution_count": 109,
   "id": "ace0e903",
   "metadata": {},
   "outputs": [
    {
     "name": "stdout",
     "output_type": "stream",
     "text": [
      "The probability that a randomly chosen injured player is a stiker 0.31\n"
     ]
    }
   ],
   "source": [
    "Total_number_of_strikers_in_the_injured_category=45\n",
    "Total_number_of_injured_players=145\n",
    "print('The probability that a randomly chosen injured player is a stiker', round(Total_number_of_strikers_in_the_injured_category/Total_number_of_injured_players,2))"
   ]
  },
  {
   "cell_type": "markdown",
   "id": "884c7732",
   "metadata": {},
   "source": [
    "1.5 What is the probability that a randomly chosen injured player is either a forward or an attacking midfielder? "
   ]
  },
  {
   "cell_type": "code",
   "execution_count": 110,
   "id": "a5f159c6",
   "metadata": {},
   "outputs": [
    {
     "name": "stdout",
     "output_type": "stream",
     "text": [
      "The probability that a randomly chosen injured player is either a forward or an attacking midfielder is 0.55\n"
     ]
    }
   ],
   "source": [
    "Total_number_of_forward_players=56\n",
    "Total_number_of_midfielder=24\n",
    "Total_number_of_injured=145\n",
    "x=(Total_number_of_forward_players+Total_number_of_midfielder)\n",
    "print('The probability that a randomly chosen injured player is either a forward or an attacking midfielder is',round(x/Total_number_of_injured,2))"
   ]
  },
  {
   "cell_type": "code",
   "execution_count": null,
   "id": "10c31872",
   "metadata": {},
   "outputs": [],
   "source": []
  }
 ],
 "metadata": {
  "kernelspec": {
   "display_name": "Python 3 (ipykernel)",
   "language": "python",
   "name": "python3"
  },
  "language_info": {
   "codemirror_mode": {
    "name": "ipython",
    "version": 3
   },
   "file_extension": ".py",
   "mimetype": "text/x-python",
   "name": "python",
   "nbconvert_exporter": "python",
   "pygments_lexer": "ipython3",
   "version": "3.9.7"
  }
 },
 "nbformat": 4,
 "nbformat_minor": 5
}
