{
 "cells": [
  {
   "cell_type": "markdown",
   "id": "6b86acb2",
   "metadata": {},
   "source": [
    "Problem 7:\n",
    "\n",
    " \n",
    "\n",
    "Dental implant data: The hardness of metal implant in dental cavities depends on multiple factors, such as the method of implant, the temperature at which the metal is treated, the alloy used as well as on the dentists who may favour one method above another and may work better in his/her favourite method. The response is the variable of interest."
   ]
  },
  {
   "cell_type": "code",
   "execution_count": 105,
   "id": "e3f44a96",
   "metadata": {},
   "outputs": [],
   "source": [
    "# import the important packages\n",
    "import pandas as pd \n",
    "import numpy as np \n",
    "import matplotlib.pyplot as plt \n",
    "import seaborn as sns  \n",
    "%matplotlib inline\n",
    "import scipy.stats as stats  \n",
    "from scipy.stats import norm\n",
    "from scipy.stats import   ttest_1samp , ttest_ind\n",
    "from statsmodels.formula.api import ols      # For n-way ANOVA\n",
    "from statsmodels.stats.anova import _get_covariance,anova_lm # For n-way ANOVA\n",
    "import statsmodels.stats.api as sm"
   ]
  },
  {
   "cell_type": "code",
   "execution_count": 148,
   "id": "b75427ab",
   "metadata": {},
   "outputs": [],
   "source": [
    "d3=pd.read_excel('Dental Hardness data.xlsx')"
   ]
  },
  {
   "cell_type": "code",
   "execution_count": 149,
   "id": "71c58252",
   "metadata": {},
   "outputs": [
    {
     "data": {
      "text/html": [
       "<div>\n",
       "<style scoped>\n",
       "    .dataframe tbody tr th:only-of-type {\n",
       "        vertical-align: middle;\n",
       "    }\n",
       "\n",
       "    .dataframe tbody tr th {\n",
       "        vertical-align: top;\n",
       "    }\n",
       "\n",
       "    .dataframe thead th {\n",
       "        text-align: right;\n",
       "    }\n",
       "</style>\n",
       "<table border=\"1\" class=\"dataframe\">\n",
       "  <thead>\n",
       "    <tr style=\"text-align: right;\">\n",
       "      <th></th>\n",
       "      <th>Dentist</th>\n",
       "      <th>Method</th>\n",
       "      <th>Alloy</th>\n",
       "      <th>Temp</th>\n",
       "      <th>Response</th>\n",
       "    </tr>\n",
       "  </thead>\n",
       "  <tbody>\n",
       "    <tr>\n",
       "      <th>0</th>\n",
       "      <td>1</td>\n",
       "      <td>1</td>\n",
       "      <td>1</td>\n",
       "      <td>1500</td>\n",
       "      <td>813</td>\n",
       "    </tr>\n",
       "    <tr>\n",
       "      <th>1</th>\n",
       "      <td>1</td>\n",
       "      <td>1</td>\n",
       "      <td>1</td>\n",
       "      <td>1600</td>\n",
       "      <td>792</td>\n",
       "    </tr>\n",
       "    <tr>\n",
       "      <th>2</th>\n",
       "      <td>1</td>\n",
       "      <td>1</td>\n",
       "      <td>1</td>\n",
       "      <td>1700</td>\n",
       "      <td>792</td>\n",
       "    </tr>\n",
       "    <tr>\n",
       "      <th>3</th>\n",
       "      <td>1</td>\n",
       "      <td>1</td>\n",
       "      <td>2</td>\n",
       "      <td>1500</td>\n",
       "      <td>907</td>\n",
       "    </tr>\n",
       "    <tr>\n",
       "      <th>4</th>\n",
       "      <td>1</td>\n",
       "      <td>1</td>\n",
       "      <td>2</td>\n",
       "      <td>1600</td>\n",
       "      <td>792</td>\n",
       "    </tr>\n",
       "  </tbody>\n",
       "</table>\n",
       "</div>"
      ],
      "text/plain": [
       "   Dentist  Method  Alloy  Temp  Response\n",
       "0        1       1      1  1500       813\n",
       "1        1       1      1  1600       792\n",
       "2        1       1      1  1700       792\n",
       "3        1       1      2  1500       907\n",
       "4        1       1      2  1600       792"
      ]
     },
     "execution_count": 149,
     "metadata": {},
     "output_type": "execute_result"
    }
   ],
   "source": [
    "d3.head()"
   ]
  },
  {
   "cell_type": "code",
   "execution_count": 150,
   "id": "3671d5a9",
   "metadata": {},
   "outputs": [
    {
     "data": {
      "text/plain": [
       "(90, 5)"
      ]
     },
     "execution_count": 150,
     "metadata": {},
     "output_type": "execute_result"
    }
   ],
   "source": [
    "#90rows and 5 columns\n",
    "d3.shape"
   ]
  },
  {
   "cell_type": "code",
   "execution_count": 151,
   "id": "154cf81a",
   "metadata": {},
   "outputs": [
    {
     "name": "stdout",
     "output_type": "stream",
     "text": [
      "<class 'pandas.core.frame.DataFrame'>\n",
      "RangeIndex: 90 entries, 0 to 89\n",
      "Data columns (total 5 columns):\n",
      " #   Column    Non-Null Count  Dtype\n",
      "---  ------    --------------  -----\n",
      " 0   Dentist   90 non-null     int64\n",
      " 1   Method    90 non-null     int64\n",
      " 2   Alloy     90 non-null     int64\n",
      " 3   Temp      90 non-null     int64\n",
      " 4   Response  90 non-null     int64\n",
      "dtypes: int64(5)\n",
      "memory usage: 3.6 KB\n"
     ]
    }
   ],
   "source": [
    "d3.info()"
   ]
  },
  {
   "cell_type": "markdown",
   "id": "b6b23f82",
   "metadata": {},
   "source": [
    "Same number of samples in all groups. "
   ]
  },
  {
   "cell_type": "code",
   "execution_count": 152,
   "id": "0d3e0286",
   "metadata": {},
   "outputs": [
    {
     "data": {
      "text/html": [
       "<div>\n",
       "<style scoped>\n",
       "    .dataframe tbody tr th:only-of-type {\n",
       "        vertical-align: middle;\n",
       "    }\n",
       "\n",
       "    .dataframe tbody tr th {\n",
       "        vertical-align: top;\n",
       "    }\n",
       "\n",
       "    .dataframe thead th {\n",
       "        text-align: right;\n",
       "    }\n",
       "</style>\n",
       "<table border=\"1\" class=\"dataframe\">\n",
       "  <thead>\n",
       "    <tr style=\"text-align: right;\">\n",
       "      <th></th>\n",
       "      <th>Dentist</th>\n",
       "      <th>Method</th>\n",
       "      <th>Alloy</th>\n",
       "      <th>Temp</th>\n",
       "      <th>Response</th>\n",
       "    </tr>\n",
       "  </thead>\n",
       "  <tbody>\n",
       "    <tr>\n",
       "      <th>count</th>\n",
       "      <td>90.000000</td>\n",
       "      <td>90.000000</td>\n",
       "      <td>90.000000</td>\n",
       "      <td>90.000000</td>\n",
       "      <td>90.000000</td>\n",
       "    </tr>\n",
       "    <tr>\n",
       "      <th>mean</th>\n",
       "      <td>3.000000</td>\n",
       "      <td>2.000000</td>\n",
       "      <td>1.500000</td>\n",
       "      <td>1600.000000</td>\n",
       "      <td>741.777778</td>\n",
       "    </tr>\n",
       "    <tr>\n",
       "      <th>std</th>\n",
       "      <td>1.422136</td>\n",
       "      <td>0.821071</td>\n",
       "      <td>0.502801</td>\n",
       "      <td>82.107083</td>\n",
       "      <td>145.767845</td>\n",
       "    </tr>\n",
       "    <tr>\n",
       "      <th>min</th>\n",
       "      <td>1.000000</td>\n",
       "      <td>1.000000</td>\n",
       "      <td>1.000000</td>\n",
       "      <td>1500.000000</td>\n",
       "      <td>289.000000</td>\n",
       "    </tr>\n",
       "    <tr>\n",
       "      <th>25%</th>\n",
       "      <td>2.000000</td>\n",
       "      <td>1.000000</td>\n",
       "      <td>1.000000</td>\n",
       "      <td>1500.000000</td>\n",
       "      <td>698.000000</td>\n",
       "    </tr>\n",
       "    <tr>\n",
       "      <th>50%</th>\n",
       "      <td>3.000000</td>\n",
       "      <td>2.000000</td>\n",
       "      <td>1.500000</td>\n",
       "      <td>1600.000000</td>\n",
       "      <td>767.000000</td>\n",
       "    </tr>\n",
       "    <tr>\n",
       "      <th>75%</th>\n",
       "      <td>4.000000</td>\n",
       "      <td>3.000000</td>\n",
       "      <td>2.000000</td>\n",
       "      <td>1700.000000</td>\n",
       "      <td>824.000000</td>\n",
       "    </tr>\n",
       "    <tr>\n",
       "      <th>max</th>\n",
       "      <td>5.000000</td>\n",
       "      <td>3.000000</td>\n",
       "      <td>2.000000</td>\n",
       "      <td>1700.000000</td>\n",
       "      <td>1115.000000</td>\n",
       "    </tr>\n",
       "  </tbody>\n",
       "</table>\n",
       "</div>"
      ],
      "text/plain": [
       "         Dentist     Method      Alloy         Temp     Response\n",
       "count  90.000000  90.000000  90.000000    90.000000    90.000000\n",
       "mean    3.000000   2.000000   1.500000  1600.000000   741.777778\n",
       "std     1.422136   0.821071   0.502801    82.107083   145.767845\n",
       "min     1.000000   1.000000   1.000000  1500.000000   289.000000\n",
       "25%     2.000000   1.000000   1.000000  1500.000000   698.000000\n",
       "50%     3.000000   2.000000   1.500000  1600.000000   767.000000\n",
       "75%     4.000000   3.000000   2.000000  1700.000000   824.000000\n",
       "max     5.000000   3.000000   2.000000  1700.000000  1115.000000"
      ]
     },
     "execution_count": 152,
     "metadata": {},
     "output_type": "execute_result"
    }
   ],
   "source": [
    "d3.describe(include='all')"
   ]
  },
  {
   "cell_type": "code",
   "execution_count": 153,
   "id": "205aef02",
   "metadata": {},
   "outputs": [
    {
     "data": {
      "text/plain": [
       "1    18\n",
       "2    18\n",
       "3    18\n",
       "4    18\n",
       "5    18\n",
       "Name: Dentist, dtype: int64"
      ]
     },
     "execution_count": 153,
     "metadata": {},
     "output_type": "execute_result"
    }
   ],
   "source": [
    "d3.Dentist.value_counts()"
   ]
  },
  {
   "cell_type": "code",
   "execution_count": 154,
   "id": "77ed91e4",
   "metadata": {},
   "outputs": [
    {
     "data": {
      "text/plain": [
       "1    30\n",
       "2    30\n",
       "3    30\n",
       "Name: Method, dtype: int64"
      ]
     },
     "execution_count": 154,
     "metadata": {},
     "output_type": "execute_result"
    }
   ],
   "source": [
    "d3.Method.value_counts()"
   ]
  },
  {
   "cell_type": "code",
   "execution_count": 155,
   "id": "1dbfb800",
   "metadata": {},
   "outputs": [
    {
     "data": {
      "text/plain": [
       "1    45\n",
       "2    45\n",
       "Name: Alloy, dtype: int64"
      ]
     },
     "execution_count": 155,
     "metadata": {},
     "output_type": "execute_result"
    }
   ],
   "source": [
    "d3.Alloy.value_counts()"
   ]
  },
  {
   "cell_type": "code",
   "execution_count": 156,
   "id": "2f4e4660",
   "metadata": {},
   "outputs": [
    {
     "data": {
      "text/plain": [
       "1500    30\n",
       "1600    30\n",
       "1700    30\n",
       "Name: Temp, dtype: int64"
      ]
     },
     "execution_count": 156,
     "metadata": {},
     "output_type": "execute_result"
    }
   ],
   "source": [
    "d3.Temp.value_counts()"
   ]
  },
  {
   "cell_type": "markdown",
   "id": "c907c660",
   "metadata": {},
   "source": [
    "7.2 Before the hypotheses may be tested, state the required assumptions. Are the assumptions fulfilled? Comment separately on both alloy types.? "
   ]
  },
  {
   "cell_type": "markdown",
   "id": "6679fda9",
   "metadata": {},
   "source": [
    "Required assumptions\n",
    "\n",
    "-The samples drawn from different populations are independent and random. \n",
    "\n",
    "-There should be no significant outliers. \n",
    "\n",
    "-Dependent variable should be measured at the continues level. \n",
    "\n",
    "-Independent variables should each consist of tow or more categorical , independent groups. \n",
    "\n",
    "-Dependent variable should be approximately normally distributed.\n",
    "\n",
    "-Number of observations in each group are same. \n"
   ]
  },
  {
   "cell_type": "markdown",
   "id": "7ad62079",
   "metadata": {},
   "source": [
    "Checking assumptions for the given data set-"
   ]
  },
  {
   "cell_type": "code",
   "execution_count": 157,
   "id": "86da0f86",
   "metadata": {},
   "outputs": [
    {
     "data": {
      "image/png": "[encoded data removed]",
      "text/plain": [
       "<Figure size 1080x576 with 6 Axes>"
      ]
     },
     "metadata": {
      "needs_background": "light"
     },
     "output_type": "display_data"
    }
   ],
   "source": [
    "#Checking normality of distribution. \n",
    "d3.hist(figsize=(15,8))\n",
    "plt.show()"
   ]
  },
  {
   "cell_type": "code",
   "execution_count": 158,
   "id": "09fcacb7",
   "metadata": {},
   "outputs": [],
   "source": [
    "#checking outliers"
   ]
  },
  {
   "cell_type": "code",
   "execution_count": 159,
   "id": "b11d510f",
   "metadata": {},
   "outputs": [
    {
     "data": {
      "image/png": "[encoded data removed]",
      "text/plain": [
       "<Figure size 432x288 with 1 Axes>"
      ]
     },
     "metadata": {
      "needs_background": "light"
     },
     "output_type": "display_data"
    }
   ],
   "source": [
    "sns.boxplot(x= d3['Dentist'], color='lightblue')\n",
    "plt.show()"
   ]
  },
  {
   "cell_type": "code",
   "execution_count": 160,
   "id": "f5a38b39",
   "metadata": {},
   "outputs": [
    {
     "data": {
      "image/png": "[encoded data removed]",
      "text/plain": [
       "<Figure size 432x288 with 1 Axes>"
      ]
     },
     "metadata": {
      "needs_background": "light"
     },
     "output_type": "display_data"
    }
   ],
   "source": [
    "sns.boxplot(x= d3['Method'], color='lightblue')\n",
    "plt.show()"
   ]
  },
  {
   "cell_type": "code",
   "execution_count": 161,
   "id": "91da4005",
   "metadata": {},
   "outputs": [
    {
     "data": {
      "image/png": "[encoded data removed]",
      "text/plain": [
       "<Figure size 432x288 with 1 Axes>"
      ]
     },
     "metadata": {
      "needs_background": "light"
     },
     "output_type": "display_data"
    }
   ],
   "source": [
    "sns.boxplot(x= d3['Alloy'], color='lightblue')\n",
    "plt.show()"
   ]
  },
  {
   "cell_type": "code",
   "execution_count": 162,
   "id": "43c53010",
   "metadata": {},
   "outputs": [
    {
     "data": {
      "image/png": "[encoded data removed]",
      "text/plain": [
       "<Figure size 432x288 with 1 Axes>"
      ]
     },
     "metadata": {
      "needs_background": "light"
     },
     "output_type": "display_data"
    }
   ],
   "source": [
    "sns.boxplot(x= d3['Temp'], color='lightblue')\n",
    "plt.show()"
   ]
  },
  {
   "cell_type": "code",
   "execution_count": 163,
   "id": "07e206c3",
   "metadata": {},
   "outputs": [
    {
     "data": {
      "image/png": "[encoded data removed]",
      "text/plain": [
       "<Figure size 432x288 with 1 Axes>"
      ]
     },
     "metadata": {
      "needs_background": "light"
     },
     "output_type": "display_data"
    }
   ],
   "source": [
    "sns.boxplot(x=d3['Response'], color='lightblue')\n",
    "plt.show()"
   ]
  },
  {
   "cell_type": "code",
   "execution_count": 164,
   "id": "45a90532",
   "metadata": {},
   "outputs": [],
   "source": [
    "#removing outliers. \n",
    "def remove_outlier(col):\n",
    "    sorted(col)\n",
    "    Q1,Q3=col.quantile([0.25,0.75])\n",
    "    IQR=Q3-Q1\n",
    "    lower_range= Q1-(1.5 * IQR)\n",
    "    upper_range= Q3+(1.5 * IQR)\n",
    "    return lower_range, upper_range"
   ]
  },
  {
   "cell_type": "code",
   "execution_count": 165,
   "id": "1ee0d90a",
   "metadata": {},
   "outputs": [],
   "source": [
    "lrincome,urincome=remove_outlier(d3['Response'])\n",
    "d3['Response']=np.where(d3['Response']>urincome,urincome,d3['Response'])\n",
    "d3['Response']=np.where(d3['Response']<lrincome,lrincome,d3['Response'])"
   ]
  },
  {
   "cell_type": "code",
   "execution_count": 166,
   "id": "eda7f94e",
   "metadata": {},
   "outputs": [
    {
     "data": {
      "image/png": "[encoded data removed]",
      "text/plain": [
       "<Figure size 1080x576 with 6 Axes>"
      ]
     },
     "metadata": {
      "needs_background": "light"
     },
     "output_type": "display_data"
    }
   ],
   "source": [
    "d3.hist(figsize=(15,8))\n",
    "plt.show()"
   ]
  },
  {
   "cell_type": "code",
   "execution_count": 167,
   "id": "b69e6a54",
   "metadata": {},
   "outputs": [
    {
     "data": {
      "image/png": "[encoded data removed]",
      "text/plain": [
       "<Figure size 432x288 with 1 Axes>"
      ]
     },
     "metadata": {
      "needs_background": "light"
     },
     "output_type": "display_data"
    }
   ],
   "source": [
    "#outliers removed\n",
    "sns.boxplot(x= d3['Response'], color='lightblue')\n",
    "plt.show()"
   ]
  },
  {
   "cell_type": "code",
   "execution_count": 168,
   "id": "88c4cfa9",
   "metadata": {},
   "outputs": [],
   "source": [
    "#changing numerical variables to categorical variables\n",
    "d3['Dentist']= pd.Categorical(d3['Dentist'])\n",
    "d3['Method']= pd.Categorical(d3['Method'])\n",
    "d3['Alloy']= pd.Categorical(d3['Alloy'])\n",
    "d3['Temp']=pd.Categorical(d3['Temp'])"
   ]
  },
  {
   "cell_type": "code",
   "execution_count": 169,
   "id": "1d8ee6b2",
   "metadata": {},
   "outputs": [
    {
     "name": "stdout",
     "output_type": "stream",
     "text": [
      "<class 'pandas.core.frame.DataFrame'>\n",
      "RangeIndex: 90 entries, 0 to 89\n",
      "Data columns (total 5 columns):\n",
      " #   Column    Non-Null Count  Dtype   \n",
      "---  ------    --------------  -----   \n",
      " 0   Dentist   90 non-null     category\n",
      " 1   Method    90 non-null     category\n",
      " 2   Alloy     90 non-null     category\n",
      " 3   Temp      90 non-null     category\n",
      " 4   Response  90 non-null     float64 \n",
      "dtypes: category(4), float64(1)\n",
      "memory usage: 1.8 KB\n"
     ]
    }
   ],
   "source": [
    "d3.info()"
   ]
  },
  {
   "cell_type": "code",
   "execution_count": 194,
   "id": "4569cd22",
   "metadata": {},
   "outputs": [],
   "source": [
    "#forming subcategories\n",
    "Dentist_1 = d3[d3['Dentist']==1]['Response']\n",
    "Dentist_2 = d3[d3['Dentist']==2]['Response']\n",
    "Dentist_3 = d3[d3['Dentist']==3]['Response']\n",
    "Dentist_4 = d3[d3['Dentist']==4]['Response']\n",
    "Dentist_5 = d3[d3['Dentist']==5]['Response']\n",
    "\n",
    "Method_1 = d3[d3['Method']==1]['Response']\n",
    "Method_2 = d3[d3['Method']==2]['Response']\n",
    "Method_3 = d3[d3['Method']==3]['Response']\n",
    "\n",
    "Alloy_1 = d3[d3['Alloy']==1]['Response']\n",
    "Alloy_2 = d3[d3['Alloy']==2]['Response']\n",
    "Alloy_3 = d3[d3['Alloy']==3]['Response']\n",
    "\n",
    "Temp_1 = d3[d3['Temp']==1500]['Response']\n",
    "Temp_2 = d3[d3['Temp']==1600]['Response']\n",
    "Temp_3 = d3[d3['Temp']==1700]['Response']"
   ]
  },
  {
   "cell_type": "code",
   "execution_count": 171,
   "id": "64f58cf9",
   "metadata": {},
   "outputs": [
    {
     "name": "stdout",
     "output_type": "stream",
     "text": [
      "18\n",
      "18\n",
      "18\n",
      "18\n",
      "18\n"
     ]
    }
   ],
   "source": [
    "#checking value counts of each group\n",
    "print(len(Dentist_1))\n",
    "print(len(Dentist_2))\n",
    "print(len(Dentist_3))\n",
    "print(len(Dentist_4))\n",
    "print(len(Dentist_5))"
   ]
  },
  {
   "cell_type": "code",
   "execution_count": 172,
   "id": "edefe451",
   "metadata": {},
   "outputs": [
    {
     "name": "stdout",
     "output_type": "stream",
     "text": [
      "30\n",
      "30\n",
      "30\n"
     ]
    }
   ],
   "source": [
    "print(len(Method_1))\n",
    "print(len(Method_2))\n",
    "print(len(Method_3))"
   ]
  },
  {
   "cell_type": "code",
   "execution_count": 173,
   "id": "2a11d458",
   "metadata": {},
   "outputs": [
    {
     "name": "stdout",
     "output_type": "stream",
     "text": [
      "45\n",
      "45\n"
     ]
    }
   ],
   "source": [
    "print(len(Alloy_1))\n",
    "print(len(Alloy_2))"
   ]
  },
  {
   "cell_type": "code",
   "execution_count": 174,
   "id": "475182ff",
   "metadata": {},
   "outputs": [
    {
     "name": "stdout",
     "output_type": "stream",
     "text": [
      "30\n",
      "30\n",
      "30\n"
     ]
    }
   ],
   "source": [
    "print(len(Temp_1))\n",
    "print(len(Temp_2))\n",
    "print(len(Temp_3))"
   ]
  },
  {
   "cell_type": "code",
   "execution_count": 175,
   "id": "0aa57bcd",
   "metadata": {},
   "outputs": [],
   "source": [
    "#checking normalcy"
   ]
  },
  {
   "cell_type": "code",
   "execution_count": 176,
   "id": "7fe04ed0",
   "metadata": {},
   "outputs": [
    {
     "name": "stdout",
     "output_type": "stream",
     "text": [
      "ShapiroResult(statistic=0.9512528777122498, pvalue=0.44500911235809326)\n",
      "ShapiroResult(statistic=0.9665580987930298, pvalue=0.731051504611969)\n",
      "ShapiroResult(statistic=0.9573882818222046, pvalue=0.5520997643470764)\n",
      "\n",
      "\n",
      "ShapiroResult(statistic=0.9796932339668274, pvalue=0.8173373937606812)\n",
      "ShapiroResult(statistic=0.9809848666191101, pvalue=0.8510975241661072)\n",
      "ShapiroResult(statistic=0.8871709704399109, pvalue=0.004136798437684774)\n",
      "\n",
      "\n",
      "ShapiroResult(statistic=0.8991953134536743, pvalue=0.000894434517249465)\n",
      "ShapiroResult(statistic=0.927866518497467, pvalue=0.007890536449849606)\n",
      "\n",
      "\n",
      "ShapiroResult(statistic=0.9331822395324707, pvalue=0.0596865713596344)\n",
      "ShapiroResult(statistic=0.9791679382324219, pvalue=0.8030202984809875)\n",
      "ShapiroResult(statistic=0.9185514450073242, pvalue=0.02460181713104248)\n"
     ]
    }
   ],
   "source": [
    "from scipy import stats\n",
    "#The Shapiro-Wilk test tests the null hypothesis that the data was drawn from a normal distribution.\n",
    "#alpha = 0.05\n",
    "print(stats.shapiro([Dentist_1]))\n",
    "print(stats.shapiro([Dentist_2]))\n",
    "print(stats.shapiro([Dentist_3]))\n",
    "\n",
    "print('\\n')\n",
    "print(stats.shapiro([Method_1]))\n",
    "print(stats.shapiro([Method_2]))\n",
    "print(stats.shapiro([Method_3]))\n",
    "\n",
    "print('\\n')\n",
    "print(stats.shapiro([Alloy_1]))\n",
    "print(stats.shapiro([Alloy_2]))\n",
    "\n",
    "print('\\n')\n",
    "print(stats.shapiro([Temp_1]))\n",
    "print(stats.shapiro([Temp_2]))\n",
    "print(stats.shapiro([Temp_3]))"
   ]
  },
  {
   "cell_type": "code",
   "execution_count": 177,
   "id": "778df0a9",
   "metadata": {
    "scrolled": false
   },
   "outputs": [
    {
     "name": "stdout",
     "output_type": "stream",
     "text": [
      "AndersonResult(statistic=0.4799398656918825, critical_values=array([0.503, 0.573, 0.687, 0.802, 0.954]), significance_level=array([15. , 10. ,  5. ,  2.5,  1. ]))\n",
      "AndersonResult(statistic=0.18489207423293763, critical_values=array([0.503, 0.573, 0.687, 0.802, 0.954]), significance_level=array([15. , 10. ,  5. ,  2.5,  1. ]))\n",
      "AndersonResult(statistic=0.31139490001785575, critical_values=array([0.503, 0.573, 0.687, 0.802, 0.954]), significance_level=array([15. , 10. ,  5. ,  2.5,  1. ]))\n",
      "AndersonResult(statistic=0.2445499504870412, critical_values=array([0.521, 0.593, 0.712, 0.83 , 0.988]), significance_level=array([15. , 10. ,  5. ,  2.5,  1. ]))\n",
      "AndersonResult(statistic=0.29115203487535624, critical_values=array([0.521, 0.593, 0.712, 0.83 , 0.988]), significance_level=array([15. , 10. ,  5. ,  2.5,  1. ]))\n",
      "AndersonResult(statistic=0.25772274137976225, critical_values=array([0.521, 0.593, 0.712, 0.83 , 0.988]), significance_level=array([15. , 10. ,  5. ,  2.5,  1. ]))\n"
     ]
    }
   ],
   "source": [
    "#Anderson Darling Test if Shapiro fails\n",
    "print(stats.anderson(Dentist_1,dist='norm'))\n",
    "print(stats.anderson(Dentist_2,dist='norm'))\n",
    "print(stats.anderson(Dentist_3,dist='norm'))\n",
    "\n",
    "print(stats.anderson(Method_1,dist='norm'))\n",
    "print(stats.anderson(Method_2,dist='norm'))\n",
    "\n",
    "print(stats.anderson(Temp_2,dist='norm'))"
   ]
  },
  {
   "cell_type": "code",
   "execution_count": 178,
   "id": "ebdbe626",
   "metadata": {},
   "outputs": [
    {
     "name": "stdout",
     "output_type": "stream",
     "text": [
      "LeveneResult(statistic=1.3736027902703822, pvalue=0.26240029040554935)\n",
      "LeveneResult(statistic=3.5342167607107005, pvalue=0.03344085077476839)\n",
      "LeveneResult(statistic=2.02655886945465, pvalue=0.15810620474519305)\n",
      "LeveneResult(statistic=0.11898237456285736, pvalue=0.887967666035956)\n"
     ]
    }
   ],
   "source": [
    "#checking Homogeniety\n",
    "#The Levene test tests the null hypothesis that all input samples are from populations with equal variances.\n",
    "#alpha = 0.05\n",
    "print(stats.levene(Dentist_1,Dentist_2,Dentist_3))\n",
    "print(stats.levene(Method_1,Method_2,Method_3))\n",
    "print(stats.levene(Alloy_1,Alloy_2))\n",
    "print(stats.levene(Temp_1,Temp_2,Temp_3))\n"
   ]
  },
  {
   "cell_type": "markdown",
   "id": "49d97931",
   "metadata": {},
   "source": [
    "In three variables pvalue is more than alpha, so fail to reject H0, and variances are equal"
   ]
  },
  {
   "cell_type": "markdown",
   "id": "79a22f7b",
   "metadata": {},
   "source": [
    "7.1-Test whether there is any difference among the dentists on the implant hardness. State the null and alternative hypotheses. Note that both types of alloys cannot be considered together. You must state the null and alternative hypotheses separately for the two types of alloys.?"
   ]
  },
  {
   "cell_type": "markdown",
   "id": "e578df59",
   "metadata": {},
   "source": [
    "## The Hypothesis for the One Way ANOVA are:\n",
    "    \n",
    " $H_0$: The mean response is the same for all three dentists. \n",
    " $H_a$: For at least one pair the mean response will be different. \n",
    "$H_0$:The mean response is same for both the alloys. \n",
    "$H_a$:The mean response is different for both the alloys. \n"
   ]
  },
  {
   "cell_type": "code",
   "execution_count": 189,
   "id": "c8711cd1",
   "metadata": {},
   "outputs": [
    {
     "data": {
      "text/html": [
       "<div>\n",
       "<style scoped>\n",
       "    .dataframe tbody tr th:only-of-type {\n",
       "        vertical-align: middle;\n",
       "    }\n",
       "\n",
       "    .dataframe tbody tr th {\n",
       "        vertical-align: top;\n",
       "    }\n",
       "\n",
       "    .dataframe thead th {\n",
       "        text-align: right;\n",
       "    }\n",
       "</style>\n",
       "<table border=\"1\" class=\"dataframe\">\n",
       "  <thead>\n",
       "    <tr style=\"text-align: right;\">\n",
       "      <th></th>\n",
       "      <th>df</th>\n",
       "      <th>sum_sq</th>\n",
       "      <th>mean_sq</th>\n",
       "      <th>F</th>\n",
       "      <th>PR(&gt;F)</th>\n",
       "    </tr>\n",
       "  </thead>\n",
       "  <tbody>\n",
       "    <tr>\n",
       "      <th>C(Dentist)</th>\n",
       "      <td>4.0</td>\n",
       "      <td>7.884522e+04</td>\n",
       "      <td>19711.305556</td>\n",
       "      <td>1.496761</td>\n",
       "      <td>0.210408</td>\n",
       "    </tr>\n",
       "    <tr>\n",
       "      <th>Residual</th>\n",
       "      <td>85.0</td>\n",
       "      <td>1.119391e+06</td>\n",
       "      <td>13169.309150</td>\n",
       "      <td>NaN</td>\n",
       "      <td>NaN</td>\n",
       "    </tr>\n",
       "  </tbody>\n",
       "</table>\n",
       "</div>"
      ],
      "text/plain": [
       "              df        sum_sq       mean_sq         F    PR(>F)\n",
       "C(Dentist)   4.0  7.884522e+04  19711.305556  1.496761  0.210408\n",
       "Residual    85.0  1.119391e+06  13169.309150       NaN       NaN"
      ]
     },
     "execution_count": 189,
     "metadata": {},
     "output_type": "execute_result"
    }
   ],
   "source": [
    "formula = 'Response ~ C(Dentist)'\n",
    "model = ols(formula, d3).fit()\n",
    "aov_table = anova_lm(model)\n",
    "(aov_table)"
   ]
  },
  {
   "cell_type": "markdown",
   "id": "776c6fcf",
   "metadata": {},
   "source": [
    "**Now, we see that the corresponding p-value is greater than alpha (0.05). Thus, we $\\textbf{fail to reject}$ the $\\textbf{Null Hypothesis}$ ($H_0$).**"
   ]
  },
  {
   "cell_type": "markdown",
   "id": "e040f798",
   "metadata": {},
   "source": [
    "Thus dentist does not derive the response. They are from same population."
   ]
  },
  {
   "cell_type": "markdown",
   "id": "8e2db789",
   "metadata": {},
   "source": [
    "7.3 Irrespective of your conclusion in 7.2, we will continue with the testing procedure. What do you conclude regarding whether implant hardness depends on dentists? Clearly state your conclusion. If the null hypothesis is rejected, is it possible to identify which pairs of dentists differ?"
   ]
  },
  {
   "cell_type": "markdown",
   "id": "0b89efed",
   "metadata": {},
   "source": [
    "## The Hypothesis for the One Way ANOVA are:\n",
    "    \n",
    " $H_0$: The mean response is the same for all three dentists. \n",
    " $H_a$: For at least one pair the mean response will be different. \n",
    "$H_0$:The mean response is same for both the alloys. \n",
    "$H_a$:The mean response is different for both the alloys. "
   ]
  },
  {
   "cell_type": "code",
   "execution_count": 180,
   "id": "99f1d148",
   "metadata": {},
   "outputs": [
    {
     "data": {
      "text/html": [
       "<div>\n",
       "<style scoped>\n",
       "    .dataframe tbody tr th:only-of-type {\n",
       "        vertical-align: middle;\n",
       "    }\n",
       "\n",
       "    .dataframe tbody tr th {\n",
       "        vertical-align: top;\n",
       "    }\n",
       "\n",
       "    .dataframe thead th {\n",
       "        text-align: right;\n",
       "    }\n",
       "</style>\n",
       "<table border=\"1\" class=\"dataframe\">\n",
       "  <thead>\n",
       "    <tr style=\"text-align: right;\">\n",
       "      <th></th>\n",
       "      <th>df</th>\n",
       "      <th>sum_sq</th>\n",
       "      <th>mean_sq</th>\n",
       "      <th>F</th>\n",
       "      <th>PR(&gt;F)</th>\n",
       "    </tr>\n",
       "  </thead>\n",
       "  <tbody>\n",
       "    <tr>\n",
       "      <th>C(Dentist)</th>\n",
       "      <td>4.0</td>\n",
       "      <td>7.884522e+04</td>\n",
       "      <td>19711.305556</td>\n",
       "      <td>1.496761</td>\n",
       "      <td>0.210408</td>\n",
       "    </tr>\n",
       "    <tr>\n",
       "      <th>Residual</th>\n",
       "      <td>85.0</td>\n",
       "      <td>1.119391e+06</td>\n",
       "      <td>13169.309150</td>\n",
       "      <td>NaN</td>\n",
       "      <td>NaN</td>\n",
       "    </tr>\n",
       "  </tbody>\n",
       "</table>\n",
       "</div>"
      ],
      "text/plain": [
       "              df        sum_sq       mean_sq         F    PR(>F)\n",
       "C(Dentist)   4.0  7.884522e+04  19711.305556  1.496761  0.210408\n",
       "Residual    85.0  1.119391e+06  13169.309150       NaN       NaN"
      ]
     },
     "execution_count": 180,
     "metadata": {},
     "output_type": "execute_result"
    }
   ],
   "source": [
    "formula = 'Response ~ C(Dentist)'\n",
    "model = ols(formula, d3).fit()\n",
    "aov_table = anova_lm(model)\n",
    "(aov_table)"
   ]
  },
  {
   "cell_type": "markdown",
   "id": "7136cbac",
   "metadata": {},
   "source": [
    "**Now, we see that the corresponding p-value is greater than alpha (0.05). Thus, we $\\textbf{fail to reject}$ the $\\textbf{Null Hypothesis}$ ($H_0$).**"
   ]
  },
  {
   "cell_type": "code",
   "execution_count": 181,
   "id": "9bd1941f",
   "metadata": {},
   "outputs": [
    {
     "data": {
      "text/plain": [
       "<AxesSubplot:xlabel='Dentist', ylabel='Response'>"
      ]
     },
     "execution_count": 181,
     "metadata": {},
     "output_type": "execute_result"
    },
    {
     "data": {
      "image/png": "[encoded data removed]",
      "text/plain": [
       "<Figure size 432x288 with 1 Axes>"
      ]
     },
     "metadata": {
      "needs_background": "light"
     },
     "output_type": "display_data"
    }
   ],
   "source": [
    "sns.pointplot(x='Dentist', y='Response', data=d3, ci=None)"
   ]
  },
  {
   "cell_type": "markdown",
   "id": "14ff501b",
   "metadata": {},
   "source": [
    "7.4 Now test whether there is any difference among the methods on the hardness of dental implant, separately for the two types of alloys. What are your conclusions? If the null hypothesis is rejected, is it possible to identify which pairs of methods differ?"
   ]
  },
  {
   "cell_type": "code",
   "execution_count": 182,
   "id": "9c9f8f63",
   "metadata": {},
   "outputs": [
    {
     "data": {
      "text/html": [
       "<div>\n",
       "<style scoped>\n",
       "    .dataframe tbody tr th:only-of-type {\n",
       "        vertical-align: middle;\n",
       "    }\n",
       "\n",
       "    .dataframe tbody tr th {\n",
       "        vertical-align: top;\n",
       "    }\n",
       "\n",
       "    .dataframe thead th {\n",
       "        text-align: right;\n",
       "    }\n",
       "</style>\n",
       "<table border=\"1\" class=\"dataframe\">\n",
       "  <thead>\n",
       "    <tr style=\"text-align: right;\">\n",
       "      <th></th>\n",
       "      <th>df</th>\n",
       "      <th>sum_sq</th>\n",
       "      <th>mean_sq</th>\n",
       "      <th>F</th>\n",
       "      <th>PR(&gt;F)</th>\n",
       "    </tr>\n",
       "  </thead>\n",
       "  <tbody>\n",
       "    <tr>\n",
       "      <th>C(Method)</th>\n",
       "      <td>2.0</td>\n",
       "      <td>381888.600000</td>\n",
       "      <td>190944.300000</td>\n",
       "      <td>23.924098</td>\n",
       "      <td>5.978800e-09</td>\n",
       "    </tr>\n",
       "    <tr>\n",
       "      <th>C(Alloy)</th>\n",
       "      <td>1.0</td>\n",
       "      <td>99533.877778</td>\n",
       "      <td>99533.877778</td>\n",
       "      <td>12.470957</td>\n",
       "      <td>6.740362e-04</td>\n",
       "    </tr>\n",
       "    <tr>\n",
       "      <th>C(Method):C(Alloy)</th>\n",
       "      <td>2.0</td>\n",
       "      <td>46388.688889</td>\n",
       "      <td>23194.344444</td>\n",
       "      <td>2.906103</td>\n",
       "      <td>6.020670e-02</td>\n",
       "    </tr>\n",
       "    <tr>\n",
       "      <th>Residual</th>\n",
       "      <td>84.0</td>\n",
       "      <td>670425.333333</td>\n",
       "      <td>7981.253968</td>\n",
       "      <td>NaN</td>\n",
       "      <td>NaN</td>\n",
       "    </tr>\n",
       "  </tbody>\n",
       "</table>\n",
       "</div>"
      ],
      "text/plain": [
       "                      df         sum_sq        mean_sq          F  \\\n",
       "C(Method)            2.0  381888.600000  190944.300000  23.924098   \n",
       "C(Alloy)             1.0   99533.877778   99533.877778  12.470957   \n",
       "C(Method):C(Alloy)   2.0   46388.688889   23194.344444   2.906103   \n",
       "Residual            84.0  670425.333333    7981.253968        NaN   \n",
       "\n",
       "                          PR(>F)  \n",
       "C(Method)           5.978800e-09  \n",
       "C(Alloy)            6.740362e-04  \n",
       "C(Method):C(Alloy)  6.020670e-02  \n",
       "Residual                     NaN  "
      ]
     },
     "execution_count": 182,
     "metadata": {},
     "output_type": "execute_result"
    }
   ],
   "source": [
    "formula = 'Response ~ C(Method) + C(Alloy) + C(Method):C(Alloy)'\n",
    "model = ols(formula, d3).fit()\n",
    "aov_table = anova_lm(model)\n",
    "(aov_table)"
   ]
  },
  {
   "cell_type": "markdown",
   "id": "57ee76b9",
   "metadata": {},
   "source": [
    "**We see that the corresponding p-value is smaller than alpha (0.05). Thus, we $\\textbf{reject}$ the $\\textbf{Null Hypothesis}$ ($H_0$).**"
   ]
  },
  {
   "cell_type": "code",
   "execution_count": 183,
   "id": "ee8e847a",
   "metadata": {},
   "outputs": [
    {
     "data": {
      "text/plain": [
       "<AxesSubplot:xlabel='Method', ylabel='Response'>"
      ]
     },
     "execution_count": 183,
     "metadata": {},
     "output_type": "execute_result"
    },
    {
     "data": {
      "image/png": "[encoded data removed]",
      "text/plain": [
       "<Figure size 432x288 with 1 Axes>"
      ]
     },
     "metadata": {
      "needs_background": "light"
     },
     "output_type": "display_data"
    }
   ],
   "source": [
    "sns.pointplot(x='Method', y='Response', data=d3, hue='Alloy', ci=None)"
   ]
  },
  {
   "cell_type": "code",
   "execution_count": 184,
   "id": "e584e6ff",
   "metadata": {},
   "outputs": [
    {
     "data": {
      "text/plain": [
       "<AxesSubplot:xlabel='Alloy', ylabel='Response'>"
      ]
     },
     "execution_count": 184,
     "metadata": {},
     "output_type": "execute_result"
    },
    {
     "data": {
      "image/png": "[encoded data removed]",
      "text/plain": [
       "<Figure size 432x288 with 1 Axes>"
      ]
     },
     "metadata": {
      "needs_background": "light"
     },
     "output_type": "display_data"
    }
   ],
   "source": [
    "sns.pointplot(x='Alloy', y='Response', data=d3, hue='Method', ci=None)"
   ]
  },
  {
   "cell_type": "markdown",
   "id": "260988ac",
   "metadata": {},
   "source": [
    "7.5 Now test whether there is any difference among the temperature levels on the hardness of dental implant, separately for the two types of alloys. What are your conclusions? If the null hypothesis is rejected, is it possible to identify which levels of temperatures differ?"
   ]
  },
  {
   "cell_type": "code",
   "execution_count": 191,
   "id": "bf9bde01",
   "metadata": {},
   "outputs": [
    {
     "data": {
      "text/html": [
       "<div>\n",
       "<style scoped>\n",
       "    .dataframe tbody tr th:only-of-type {\n",
       "        vertical-align: middle;\n",
       "    }\n",
       "\n",
       "    .dataframe tbody tr th {\n",
       "        vertical-align: top;\n",
       "    }\n",
       "\n",
       "    .dataframe thead th {\n",
       "        text-align: right;\n",
       "    }\n",
       "</style>\n",
       "<table border=\"1\" class=\"dataframe\">\n",
       "  <thead>\n",
       "    <tr style=\"text-align: right;\">\n",
       "      <th></th>\n",
       "      <th>df</th>\n",
       "      <th>sum_sq</th>\n",
       "      <th>mean_sq</th>\n",
       "      <th>F</th>\n",
       "      <th>PR(&gt;F)</th>\n",
       "    </tr>\n",
       "  </thead>\n",
       "  <tbody>\n",
       "    <tr>\n",
       "      <th>C(Temp)</th>\n",
       "      <td>2.0</td>\n",
       "      <td>3.546060e+04</td>\n",
       "      <td>17730.300000</td>\n",
       "      <td>1.421276</td>\n",
       "      <td>0.247151</td>\n",
       "    </tr>\n",
       "    <tr>\n",
       "      <th>C(Alloy)</th>\n",
       "      <td>1.0</td>\n",
       "      <td>9.953388e+04</td>\n",
       "      <td>99533.877778</td>\n",
       "      <td>7.978719</td>\n",
       "      <td>0.005911</td>\n",
       "    </tr>\n",
       "    <tr>\n",
       "      <th>C(Temp):C(Alloy)</th>\n",
       "      <td>2.0</td>\n",
       "      <td>1.534882e+04</td>\n",
       "      <td>7674.411111</td>\n",
       "      <td>0.615187</td>\n",
       "      <td>0.542957</td>\n",
       "    </tr>\n",
       "    <tr>\n",
       "      <th>Residual</th>\n",
       "      <td>84.0</td>\n",
       "      <td>1.047893e+06</td>\n",
       "      <td>12474.919048</td>\n",
       "      <td>NaN</td>\n",
       "      <td>NaN</td>\n",
       "    </tr>\n",
       "  </tbody>\n",
       "</table>\n",
       "</div>"
      ],
      "text/plain": [
       "                    df        sum_sq       mean_sq         F    PR(>F)\n",
       "C(Temp)            2.0  3.546060e+04  17730.300000  1.421276  0.247151\n",
       "C(Alloy)           1.0  9.953388e+04  99533.877778  7.978719  0.005911\n",
       "C(Temp):C(Alloy)   2.0  1.534882e+04   7674.411111  0.615187  0.542957\n",
       "Residual          84.0  1.047893e+06  12474.919048       NaN       NaN"
      ]
     },
     "execution_count": 191,
     "metadata": {},
     "output_type": "execute_result"
    }
   ],
   "source": [
    "formula = 'Response ~ C(Temp) + C(Alloy)+C(Temp):C(Alloy)'\n",
    "model = ols(formula, d3).fit()\n",
    "aov_table = anova_lm(model)\n",
    "(aov_table)"
   ]
  },
  {
   "cell_type": "markdown",
   "id": "ceed66be",
   "metadata": {},
   "source": [
    "7.6 Consider the interaction effect of dentist and method and comment on the interaction plot, separately for the two types of alloys?"
   ]
  },
  {
   "cell_type": "code",
   "execution_count": 186,
   "id": "0b8c0e3e",
   "metadata": {},
   "outputs": [
    {
     "data": {
      "text/html": [
       "<div>\n",
       "<style scoped>\n",
       "    .dataframe tbody tr th:only-of-type {\n",
       "        vertical-align: middle;\n",
       "    }\n",
       "\n",
       "    .dataframe tbody tr th {\n",
       "        vertical-align: top;\n",
       "    }\n",
       "\n",
       "    .dataframe thead th {\n",
       "        text-align: right;\n",
       "    }\n",
       "</style>\n",
       "<table border=\"1\" class=\"dataframe\">\n",
       "  <thead>\n",
       "    <tr style=\"text-align: right;\">\n",
       "      <th></th>\n",
       "      <th>df</th>\n",
       "      <th>sum_sq</th>\n",
       "      <th>mean_sq</th>\n",
       "      <th>F</th>\n",
       "      <th>PR(&gt;F)</th>\n",
       "    </tr>\n",
       "  </thead>\n",
       "  <tbody>\n",
       "    <tr>\n",
       "      <th>C(Dentist)</th>\n",
       "      <td>4.0</td>\n",
       "      <td>78845.222222</td>\n",
       "      <td>19711.305556</td>\n",
       "      <td>2.548191</td>\n",
       "      <td>4.613193e-02</td>\n",
       "    </tr>\n",
       "    <tr>\n",
       "      <th>C(Method)</th>\n",
       "      <td>2.0</td>\n",
       "      <td>381888.600000</td>\n",
       "      <td>190944.300000</td>\n",
       "      <td>24.684441</td>\n",
       "      <td>5.795721e-09</td>\n",
       "    </tr>\n",
       "    <tr>\n",
       "      <th>C(Dentist):C(Method)</th>\n",
       "      <td>8.0</td>\n",
       "      <td>157346.844444</td>\n",
       "      <td>19668.355556</td>\n",
       "      <td>2.542639</td>\n",
       "      <td>1.657388e-02</td>\n",
       "    </tr>\n",
       "    <tr>\n",
       "      <th>Residual</th>\n",
       "      <td>75.0</td>\n",
       "      <td>580155.833333</td>\n",
       "      <td>7735.411111</td>\n",
       "      <td>NaN</td>\n",
       "      <td>NaN</td>\n",
       "    </tr>\n",
       "  </tbody>\n",
       "</table>\n",
       "</div>"
      ],
      "text/plain": [
       "                        df         sum_sq        mean_sq          F  \\\n",
       "C(Dentist)             4.0   78845.222222   19711.305556   2.548191   \n",
       "C(Method)              2.0  381888.600000  190944.300000  24.684441   \n",
       "C(Dentist):C(Method)   8.0  157346.844444   19668.355556   2.542639   \n",
       "Residual              75.0  580155.833333    7735.411111        NaN   \n",
       "\n",
       "                            PR(>F)  \n",
       "C(Dentist)            4.613193e-02  \n",
       "C(Method)             5.795721e-09  \n",
       "C(Dentist):C(Method)  1.657388e-02  \n",
       "Residual                       NaN  "
      ]
     },
     "execution_count": 186,
     "metadata": {},
     "output_type": "execute_result"
    }
   ],
   "source": [
    "formula = 'Response ~ C(Dentist) + C(Method) + C(Dentist):C(Method)'\n",
    "model = ols(formula, d3).fit()\n",
    "aov_table = anova_lm(model)\n",
    "(aov_table)"
   ]
  },
  {
   "cell_type": "markdown",
   "id": "d537eec3",
   "metadata": {},
   "source": [
    "Since the p value for interaction effect is way less than alpha, we can conclude that there is no effect of interaction effect on our response variable. "
   ]
  },
  {
   "cell_type": "code",
   "execution_count": 187,
   "id": "f26bdb52",
   "metadata": {},
   "outputs": [
    {
     "data": {
      "text/plain": [
       "<AxesSubplot:xlabel='Dentist', ylabel='Response'>"
      ]
     },
     "execution_count": 187,
     "metadata": {},
     "output_type": "execute_result"
    },
    {
     "data": {
      "image/png": "[encoded data removed]",
      "text/plain": [
       "<Figure size 432x288 with 1 Axes>"
      ]
     },
     "metadata": {
      "needs_background": "light"
     },
     "output_type": "display_data"
    }
   ],
   "source": [
    "sns.pointplot(x='Dentist', y='Response', data=d3, hue='Method', ci=None)"
   ]
  },
  {
   "cell_type": "markdown",
   "id": "9d746192",
   "metadata": {},
   "source": [
    "7.7 Now consider the effect of both factors, dentist, and method, separately on each alloy. What do you conclude? Is it possible to identify which dentists are different, which methods are different, and which interaction levels are different?"
   ]
  },
  {
   "cell_type": "code",
   "execution_count": null,
   "id": "10c31872",
   "metadata": {},
   "outputs": [],
   "source": []
  }
 ],
 "metadata": {
  "kernelspec": {
   "display_name": "Python 3 (ipykernel)",
   "language": "python",
   "name": "python3"
  },
  "language_info": {
   "codemirror_mode": {
    "name": "ipython",
    "version": 3
   },
   "file_extension": ".py",
   "mimetype": "text/x-python",
   "name": "python",
   "nbconvert_exporter": "python",
   "pygments_lexer": "ipython3",
   "version": "3.9.7"
  }
 },
 "nbformat": 4,
 "nbformat_minor": 5
}
