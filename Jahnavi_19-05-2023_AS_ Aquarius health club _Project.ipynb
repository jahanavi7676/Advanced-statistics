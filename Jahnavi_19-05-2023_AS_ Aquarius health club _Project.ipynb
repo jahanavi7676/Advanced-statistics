{
 "cells": [
  {
   "cell_type": "markdown",
   "id": "e5a8fbc3",
   "metadata": {},
   "source": [
    "Problem 6:\n",
    "\n",
    " \n",
    "\n",
    "Aquarius health club, one of the largest and most popular cross-fit gyms in the country has been advertising a rigorous program for body conditioning. The program is considered successful if the candidate is able to do more than 5 push-ups, as compared to when he/she enrolled in the program. Using the sample data provided can you conclude whether the program is successful? (Consider the level of Significance as 5%)\n",
    "\n",
    "Note that this is a problem of the paired-t-test. Since the claim is that the training will make a difference of more than 5, the null and alternative hypotheses must be formed accordingly.\n",
    "\n",
    " "
   ]
  },
  {
   "cell_type": "code",
   "execution_count": 105,
   "id": "e3f44a96",
   "metadata": {},
   "outputs": [],
   "source": [
    "# import the important packages\n",
    "import pandas as pd \n",
    "import numpy as np \n",
    "import matplotlib.pyplot as plt \n",
    "import seaborn as sns  \n",
    "%matplotlib inline\n",
    "import scipy.stats as stats  \n",
    "from scipy.stats import norm\n",
    "from scipy.stats import   ttest_1samp , ttest_ind\n",
    "from statsmodels.formula.api import ols      # For n-way ANOVA\n",
    "from statsmodels.stats.anova import _get_covariance,anova_lm # For n-way ANOVA\n",
    "import statsmodels.stats.api as sm"
   ]
  },
  {
   "cell_type": "code",
   "execution_count": 142,
   "id": "33a49f9c",
   "metadata": {},
   "outputs": [],
   "source": [
    "d1=pd.read_csv('Aquarius_gym.csv')"
   ]
  },
  {
   "cell_type": "code",
   "execution_count": 143,
   "id": "5353f5b1",
   "metadata": {},
   "outputs": [
    {
     "data": {
      "text/html": [
       "<div>\n",
       "<style scoped>\n",
       "    .dataframe tbody tr th:only-of-type {\n",
       "        vertical-align: middle;\n",
       "    }\n",
       "\n",
       "    .dataframe tbody tr th {\n",
       "        vertical-align: top;\n",
       "    }\n",
       "\n",
       "    .dataframe thead th {\n",
       "        text-align: right;\n",
       "    }\n",
       "</style>\n",
       "<table border=\"1\" class=\"dataframe\">\n",
       "  <thead>\n",
       "    <tr style=\"text-align: right;\">\n",
       "      <th></th>\n",
       "      <th>Sr no.</th>\n",
       "      <th>Before</th>\n",
       "      <th>After</th>\n",
       "    </tr>\n",
       "  </thead>\n",
       "  <tbody>\n",
       "    <tr>\n",
       "      <th>0</th>\n",
       "      <td>1</td>\n",
       "      <td>39</td>\n",
       "      <td>44</td>\n",
       "    </tr>\n",
       "    <tr>\n",
       "      <th>1</th>\n",
       "      <td>2</td>\n",
       "      <td>25</td>\n",
       "      <td>25</td>\n",
       "    </tr>\n",
       "    <tr>\n",
       "      <th>2</th>\n",
       "      <td>3</td>\n",
       "      <td>39</td>\n",
       "      <td>39</td>\n",
       "    </tr>\n",
       "    <tr>\n",
       "      <th>3</th>\n",
       "      <td>4</td>\n",
       "      <td>6</td>\n",
       "      <td>13</td>\n",
       "    </tr>\n",
       "    <tr>\n",
       "      <th>4</th>\n",
       "      <td>5</td>\n",
       "      <td>40</td>\n",
       "      <td>44</td>\n",
       "    </tr>\n",
       "  </tbody>\n",
       "</table>\n",
       "</div>"
      ],
      "text/plain": [
       "   Sr no.  Before  After\n",
       "0       1      39     44\n",
       "1       2      25     25\n",
       "2       3      39     39\n",
       "3       4       6     13\n",
       "4       5      40     44"
      ]
     },
     "execution_count": 143,
     "metadata": {},
     "output_type": "execute_result"
    }
   ],
   "source": [
    "d1.head()"
   ]
  },
  {
   "cell_type": "markdown",
   "id": "687ca89c",
   "metadata": {},
   "source": [
    "## Step 1: Define null and alternative hypotheses"
   ]
  },
  {
   "cell_type": "markdown",
   "id": "f6e2986c",
   "metadata": {},
   "source": [
    "Step 1: Define null and alternative hypotheses\n",
    "\n",
    "In testing whether the program is successfull or not which is defined if the candidate is able to do more than 5 push ups as compared to when he or she joined the program. \n",
    "\n",
    "Here u1 is the count of push ups after joining the program. \n",
    "\n",
    "u2 is the count of push ups before joining the program. \n",
    "\n",
    "the null hypothesis states that the difference  after joining the program push up counts has increased to more than 5.  \n",
    "\n",
    "the alternate hypothesis states that after joining the program push up count has not increased to more than 5.\n",
    "\n",
    " \n",
    "𝐻o :  u1-u2 < 5\n",
    "\n",
    "𝐻a :  u1  -  u2   >5\n"
   ]
  },
  {
   "cell_type": "markdown",
   "id": "c4e1dd16",
   "metadata": {},
   "source": [
    "### Step 2: Decide the significance level"
   ]
  },
  {
   "cell_type": "markdown",
   "id": "0d7263c2",
   "metadata": {},
   "source": [
    "Here we select $\\alpha$ = 0.05 and the population standard deviation is not known."
   ]
  },
  {
   "cell_type": "markdown",
   "id": "9b7f500f",
   "metadata": {},
   "source": [
    "### Step 3: Identify the test statistic"
   ]
  },
  {
   "cell_type": "markdown",
   "id": "ef43c3d5",
   "metadata": {},
   "source": [
    "* We have two samples and we do not know the population standard deviation.\n",
    "* Sample sizes for both samples are  same.\n",
    "* We you use the t distribution and the $t_{STAT}$ test statistic for two sample unpaired test."
   ]
  },
  {
   "cell_type": "markdown",
   "id": "f602f33d",
   "metadata": {},
   "source": [
    "## Step 4: Calculate the p - value and test statistic"
   ]
  },
  {
   "cell_type": "code",
   "execution_count": 144,
   "id": "2cd69233",
   "metadata": {},
   "outputs": [
    {
     "name": "stdout",
     "output_type": "stream",
     "text": [
      "19.322619811082458 2.2920419252511966e-35\n"
     ]
    }
   ],
   "source": [
    "t_stat, p_value1  = stats.ttest_rel(d1['After'],d1['Before'])  #Performing a paired t-test\n",
    "\n",
    "print(t_stat, p_value1) #Python gives us a two tailed test. The pvalue here is for two-tailed test."
   ]
  },
  {
   "cell_type": "code",
   "execution_count": 145,
   "id": "0a2f20c7",
   "metadata": {},
   "outputs": [
    {
     "data": {
      "text/plain": [
       "1.1460209626255983e-35"
      ]
     },
     "execution_count": 145,
     "metadata": {},
     "output_type": "execute_result"
    }
   ],
   "source": [
    "#The following is the pvalue for a one-tailed test.\n",
    "\n",
    "(p_value1/2)"
   ]
  },
  {
   "cell_type": "code",
   "execution_count": 146,
   "id": "8d35f493",
   "metadata": {},
   "outputs": [
    {
     "name": "stdout",
     "output_type": "stream",
     "text": [
      "The T statistic is: 19.322619811082458 \n",
      "The corresponding pvalue is : 1.1460209626255983e-35\n"
     ]
    }
   ],
   "source": [
    "print ('The T statistic is:',t_stat,'\\n''The corresponding pvalue is :',(p_value1/2))"
   ]
  },
  {
   "cell_type": "markdown",
   "id": "53f7f742",
   "metadata": {},
   "source": [
    "## Step 5:  Decide to reject or accept null hypothesis"
   ]
  },
  {
   "cell_type": "code",
   "execution_count": 147,
   "id": "6cea0b7d",
   "metadata": {},
   "outputs": [
    {
     "name": "stdout",
     "output_type": "stream",
     "text": [
      "Paired two-sample t-test p-value= [4.17128700e-05 1.11499484e-01]\n",
      "We have enough evidence to reject the null hypothesis in favour of alternative hypothesis\n"
     ]
    }
   ],
   "source": [
    "# p_value < 0.05 => alternative hypothesis:\n",
    "# they don't have the same mean at the 5% significance level\n",
    "print (\"Paired two-sample t-test p-value=\", p_value/2)\n",
    "\n",
    "alpha_level = 0.05\n",
    "\n",
    "if (p_value1/2) < alpha_level:\n",
    "    print('We have enough evidence to reject the null hypothesis in favour of alternative hypothesis')\n",
    "    \n",
    "else:\n",
    "    print('We do not have enough evidence to reject the null hypothesis in favour of alternative hypothesis')\n",
    "    "
   ]
  },
  {
   "cell_type": "markdown",
   "id": "6b86acb2",
   "metadata": {},
   "source": [
    "###Problem 7:\n",
    "\n",
    " \n",
    "\n",
    "Dental implant data: The hardness of metal implant in dental cavities depends on multiple factors, such as the method of implant, the temperature at which the metal is treated, the alloy used as well as on the dentists who may favour one method above another and may work better in his/her favourite method. The response is the variable of interest."
   ]
  },
  {
   "cell_type": "code",
   "execution_count": 148,
   "id": "b75427ab",
   "metadata": {},
   "outputs": [],
   "source": [
    "d3=pd.read_excel('Dental Hardness data.xlsx')"
   ]
  },
  {
   "cell_type": "code",
   "execution_count": 149,
   "id": "71c58252",
   "metadata": {},
   "outputs": [
    {
     "data": {
      "text/html": [
       "<div>\n",
       "<style scoped>\n",
       "    .dataframe tbody tr th:only-of-type {\n",
       "        vertical-align: middle;\n",
       "    }\n",
       "\n",
       "    .dataframe tbody tr th {\n",
       "        vertical-align: top;\n",
       "    }\n",
       "\n",
       "    .dataframe thead th {\n",
       "        text-align: right;\n",
       "    }\n",
       "</style>\n",
       "<table border=\"1\" class=\"dataframe\">\n",
       "  <thead>\n",
       "    <tr style=\"text-align: right;\">\n",
       "      <th></th>\n",
       "      <th>Dentist</th>\n",
       "      <th>Method</th>\n",
       "      <th>Alloy</th>\n",
       "      <th>Temp</th>\n",
       "      <th>Response</th>\n",
       "    </tr>\n",
       "  </thead>\n",
       "  <tbody>\n",
       "    <tr>\n",
       "      <th>0</th>\n",
       "      <td>1</td>\n",
       "      <td>1</td>\n",
       "      <td>1</td>\n",
       "      <td>1500</td>\n",
       "      <td>813</td>\n",
       "    </tr>\n",
       "    <tr>\n",
       "      <th>1</th>\n",
       "      <td>1</td>\n",
       "      <td>1</td>\n",
       "      <td>1</td>\n",
       "      <td>1600</td>\n",
       "      <td>792</td>\n",
       "    </tr>\n",
       "    <tr>\n",
       "      <th>2</th>\n",
       "      <td>1</td>\n",
       "      <td>1</td>\n",
       "      <td>1</td>\n",
       "      <td>1700</td>\n",
       "      <td>792</td>\n",
       "    </tr>\n",
       "    <tr>\n",
       "      <th>3</th>\n",
       "      <td>1</td>\n",
       "      <td>1</td>\n",
       "      <td>2</td>\n",
       "      <td>1500</td>\n",
       "      <td>907</td>\n",
       "    </tr>\n",
       "    <tr>\n",
       "      <th>4</th>\n",
       "      <td>1</td>\n",
       "      <td>1</td>\n",
       "      <td>2</td>\n",
       "      <td>1600</td>\n",
       "      <td>792</td>\n",
       "    </tr>\n",
       "  </tbody>\n",
       "</table>\n",
       "</div>"
      ],
      "text/plain": [
       "   Dentist  Method  Alloy  Temp  Response\n",
       "0        1       1      1  1500       813\n",
       "1        1       1      1  1600       792\n",
       "2        1       1      1  1700       792\n",
       "3        1       1      2  1500       907\n",
       "4        1       1      2  1600       792"
      ]
     },
     "execution_count": 149,
     "metadata": {},
     "output_type": "execute_result"
    }
   ],
   "source": [
    "d3.head()"
   ]
  },
  {
   "cell_type": "code",
   "execution_count": 150,
   "id": "3671d5a9",
   "metadata": {},
   "outputs": [
    {
     "data": {
      "text/plain": [
       "(90, 5)"
      ]
     },
     "execution_count": 150,
     "metadata": {},
     "output_type": "execute_result"
    }
   ],
   "source": [
    "#90rows and 5 columns\n",
    "d3.shape"
   ]
  },
  {
   "cell_type": "code",
   "execution_count": 151,
   "id": "154cf81a",
   "metadata": {},
   "outputs": [
    {
     "name": "stdout",
     "output_type": "stream",
     "text": [
      "<class 'pandas.core.frame.DataFrame'>\n",
      "RangeIndex: 90 entries, 0 to 89\n",
      "Data columns (total 5 columns):\n",
      " #   Column    Non-Null Count  Dtype\n",
      "---  ------    --------------  -----\n",
      " 0   Dentist   90 non-null     int64\n",
      " 1   Method    90 non-null     int64\n",
      " 2   Alloy     90 non-null     int64\n",
      " 3   Temp      90 non-null     int64\n",
      " 4   Response  90 non-null     int64\n",
      "dtypes: int64(5)\n",
      "memory usage: 3.6 KB\n"
     ]
    }
   ],
   "source": [
    "d3.info()"
   ]
  },
  {
   "cell_type": "markdown",
   "id": "b6b23f82",
   "metadata": {},
   "source": [
    "Same number of samples in all groups. "
   ]
  },
  {
   "cell_type": "code",
   "execution_count": 152,
   "id": "0d3e0286",
   "metadata": {},
   "outputs": [
    {
     "data": {
      "text/html": [
       "<div>\n",
       "<style scoped>\n",
       "    .dataframe tbody tr th:only-of-type {\n",
       "        vertical-align: middle;\n",
       "    }\n",
       "\n",
       "    .dataframe tbody tr th {\n",
       "        vertical-align: top;\n",
       "    }\n",
       "\n",
       "    .dataframe thead th {\n",
       "        text-align: right;\n",
       "    }\n",
       "</style>\n",
       "<table border=\"1\" class=\"dataframe\">\n",
       "  <thead>\n",
       "    <tr style=\"text-align: right;\">\n",
       "      <th></th>\n",
       "      <th>Dentist</th>\n",
       "      <th>Method</th>\n",
       "      <th>Alloy</th>\n",
       "      <th>Temp</th>\n",
       "      <th>Response</th>\n",
       "    </tr>\n",
       "  </thead>\n",
       "  <tbody>\n",
       "    <tr>\n",
       "      <th>count</th>\n",
       "      <td>90.000000</td>\n",
       "      <td>90.000000</td>\n",
       "      <td>90.000000</td>\n",
       "      <td>90.000000</td>\n",
       "      <td>90.000000</td>\n",
       "    </tr>\n",
       "    <tr>\n",
       "      <th>mean</th>\n",
       "      <td>3.000000</td>\n",
       "      <td>2.000000</td>\n",
       "      <td>1.500000</td>\n",
       "      <td>1600.000000</td>\n",
       "      <td>741.777778</td>\n",
       "    </tr>\n",
       "    <tr>\n",
       "      <th>std</th>\n",
       "      <td>1.422136</td>\n",
       "      <td>0.821071</td>\n",
       "      <td>0.502801</td>\n",
       "      <td>82.107083</td>\n",
       "      <td>145.767845</td>\n",
       "    </tr>\n",
       "    <tr>\n",
       "      <th>min</th>\n",
       "      <td>1.000000</td>\n",
       "      <td>1.000000</td>\n",
       "      <td>1.000000</td>\n",
       "      <td>1500.000000</td>\n",
       "      <td>289.000000</td>\n",
       "    </tr>\n",
       "    <tr>\n",
       "      <th>25%</th>\n",
       "      <td>2.000000</td>\n",
       "      <td>1.000000</td>\n",
       "      <td>1.000000</td>\n",
       "      <td>1500.000000</td>\n",
       "      <td>698.000000</td>\n",
       "    </tr>\n",
       "    <tr>\n",
       "      <th>50%</th>\n",
       "      <td>3.000000</td>\n",
       "      <td>2.000000</td>\n",
       "      <td>1.500000</td>\n",
       "      <td>1600.000000</td>\n",
       "      <td>767.000000</td>\n",
       "    </tr>\n",
       "    <tr>\n",
       "      <th>75%</th>\n",
       "      <td>4.000000</td>\n",
       "      <td>3.000000</td>\n",
       "      <td>2.000000</td>\n",
       "      <td>1700.000000</td>\n",
       "      <td>824.000000</td>\n",
       "    </tr>\n",
       "    <tr>\n",
       "      <th>max</th>\n",
       "      <td>5.000000</td>\n",
       "      <td>3.000000</td>\n",
       "      <td>2.000000</td>\n",
       "      <td>1700.000000</td>\n",
       "      <td>1115.000000</td>\n",
       "    </tr>\n",
       "  </tbody>\n",
       "</table>\n",
       "</div>"
      ],
      "text/plain": [
       "         Dentist     Method      Alloy         Temp     Response\n",
       "count  90.000000  90.000000  90.000000    90.000000    90.000000\n",
       "mean    3.000000   2.000000   1.500000  1600.000000   741.777778\n",
       "std     1.422136   0.821071   0.502801    82.107083   145.767845\n",
       "min     1.000000   1.000000   1.000000  1500.000000   289.000000\n",
       "25%     2.000000   1.000000   1.000000  1500.000000   698.000000\n",
       "50%     3.000000   2.000000   1.500000  1600.000000   767.000000\n",
       "75%     4.000000   3.000000   2.000000  1700.000000   824.000000\n",
       "max     5.000000   3.000000   2.000000  1700.000000  1115.000000"
      ]
     },
     "execution_count": 152,
     "metadata": {},
     "output_type": "execute_result"
    }
   ],
   "source": [
    "d3.describe(include='all')"
   ]
  },
  {
   "cell_type": "code",
   "execution_count": 153,
   "id": "205aef02",
   "metadata": {},
   "outputs": [
    {
     "data": {
      "text/plain": [
       "1    18\n",
       "2    18\n",
       "3    18\n",
       "4    18\n",
       "5    18\n",
       "Name: Dentist, dtype: int64"
      ]
     },
     "execution_count": 153,
     "metadata": {},
     "output_type": "execute_result"
    }
   ],
   "source": [
    "d3.Dentist.value_counts()"
   ]
  },
  {
   "cell_type": "code",
   "execution_count": 154,
   "id": "77ed91e4",
   "metadata": {},
   "outputs": [
    {
     "data": {
      "text/plain": [
       "1    30\n",
       "2    30\n",
       "3    30\n",
       "Name: Method, dtype: int64"
      ]
     },
     "execution_count": 154,
     "metadata": {},
     "output_type": "execute_result"
    }
   ],
   "source": [
    "d3.Method.value_counts()"
   ]
  },
  {
   "cell_type": "code",
   "execution_count": 155,
   "id": "1dbfb800",
   "metadata": {},
   "outputs": [
    {
     "data": {
      "text/plain": [
       "1    45\n",
       "2    45\n",
       "Name: Alloy, dtype: int64"
      ]
     },
     "execution_count": 155,
     "metadata": {},
     "output_type": "execute_result"
    }
   ],
   "source": [
    "d3.Alloy.value_counts()"
   ]
  },
  {
   "cell_type": "code",
   "execution_count": 156,
   "id": "2f4e4660",
   "metadata": {},
   "outputs": [
    {
     "data": {
      "text/plain": [
       "1500    30\n",
       "1600    30\n",
       "1700    30\n",
       "Name: Temp, dtype: int64"
      ]
     },
     "execution_count": 156,
     "metadata": {},
     "output_type": "execute_result"
    }
   ],
   "source": [
    "d3.Temp.value_counts()"
   ]
  },
  {
   "cell_type": "markdown",
   "id": "c907c660",
   "metadata": {},
   "source": [
    "7.2 Before the hypotheses may be tested, state the required assumptions. Are the assumptions fulfilled? Comment separately on both alloy types.? "
   ]
  },
  {
   "cell_type": "markdown",
   "id": "6679fda9",
   "metadata": {},
   "source": [
    "Required assumptions\n",
    "\n",
    "-The samples drawn from different populations are independent and random. \n",
    "\n",
    "-There should be no significant outliers. \n",
    "\n",
    "-Dependent variable should be measured at the continues level. \n",
    "\n",
    "-Independent variables should each consist of tow or more categorical , independent groups. \n",
    "\n",
    "-Dependent variable should be approximately normally distributed.\n",
    "\n",
    "-Number of observations in each group are same. \n"
   ]
  },
  {
   "cell_type": "markdown",
   "id": "7ad62079",
   "metadata": {},
   "source": [
    "Checking assumptions for the given data set-"
   ]
  },
  {
   "cell_type": "code",
   "execution_count": 157,
   "id": "86da0f86",
   "metadata": {},
   "outputs": [
    {
     "data": {
      "image/png": "[encoded data removed]",
      "text/plain": [
       "<Figure size 1080x576 with 6 Axes>"
      ]
     },
     "metadata": {
      "needs_background": "light"
     },
     "output_type": "display_data"
    }
   ],
   "source": [
    "#Checking normality of distribution. \n",
    "d3.hist(figsize=(15,8))\n",
    "plt.show()"
   ]
  },
  {
   "cell_type": "code",
   "execution_count": 158,
   "id": "09fcacb7",
   "metadata": {},
   "outputs": [],
   "source": [
    "#checking outliers"
   ]
  },
  {
   "cell_type": "code",
   "execution_count": 159,
   "id": "b11d510f",
   "metadata": {},
   "outputs": [
    {
     "data": {
      "image/png": "[encoded data removed]",
      "text/plain": [
       "<Figure size 432x288 with 1 Axes>"
      ]
     },
     "metadata": {
      "needs_background": "light"
     },
     "output_type": "display_data"
    }
   ],
   "source": [
    "sns.boxplot(x= d3['Dentist'], color='lightblue')\n",
    "plt.show()"
   ]
  },
  {
   "cell_type": "code",
   "execution_count": 160,
   "id": "f5a38b39",
   "metadata": {},
   "outputs": [
    {
     "data": {
      "image/png": "[encoded data removed]",
      "text/plain": [
       "<Figure size 432x288 with 1 Axes>"
      ]
     },
     "metadata": {
      "needs_background": "light"
     },
     "output_type": "display_data"
    }
   ],
   "source": [
    "sns.boxplot(x= d3['Method'], color='lightblue')\n",
    "plt.show()"
   ]
  },
  {
   "cell_type": "code",
   "execution_count": 161,
   "id": "91da4005",
   "metadata": {},
   "outputs": [
    {
     "data": {
      "image/png": "[encoded data removed]",
      "text/plain": [
       "<Figure size 432x288 with 1 Axes>"
      ]
     },
     "metadata": {
      "needs_background": "light"
     },
     "output_type": "display_data"
    }
   ],
   "source": [
    "sns.boxplot(x= d3['Alloy'], color='lightblue')\n",
    "plt.show()"
   ]
  },
  {
   "cell_type": "code",
   "execution_count": 162,
   "id": "43c53010",
   "metadata": {},
   "outputs": [
    {
     "data": {
      "image/png": "[encoded data removed]",
      "text/plain": [
       "<Figure size 432x288 with 1 Axes>"
      ]
     },
     "metadata": {
      "needs_background": "light"
     },
     "output_type": "display_data"
    }
   ],
   "source": [
    "sns.boxplot(x= d3['Temp'], color='lightblue')\n",
    "plt.show()"
   ]
  },
  {
   "cell_type": "code",
   "execution_count": 163,
   "id": "07e206c3",
   "metadata": {},
   "outputs": [
    {
     "data": {
      "image/png": "[encoded data removed]",
      "text/plain": [
       "<Figure size 432x288 with 1 Axes>"
      ]
     },
     "metadata": {
      "needs_background": "light"
     },
     "output_type": "display_data"
    }
   ],
   "source": [
    "sns.boxplot(x=d3['Response'], color='lightblue')\n",
    "plt.show()"
   ]
  },
  {
   "cell_type": "code",
   "execution_count": 164,
   "id": "45a90532",
   "metadata": {},
   "outputs": [],
   "source": [
    "#removing outliers. \n",
    "def remove_outlier(col):\n",
    "    sorted(col)\n",
    "    Q1,Q3=col.quantile([0.25,0.75])\n",
    "    IQR=Q3-Q1\n",
    "    lower_range= Q1-(1.5 * IQR)\n",
    "    upper_range= Q3+(1.5 * IQR)\n",
    "    return lower_range, upper_range"
   ]
  },
  {
   "cell_type": "code",
   "execution_count": 165,
   "id": "1ee0d90a",
   "metadata": {},
   "outputs": [],
   "source": [
    "lrincome,urincome=remove_outlier(d3['Response'])\n",
    "d3['Response']=np.where(d3['Response']>urincome,urincome,d3['Response'])\n",
    "d3['Response']=np.where(d3['Response']<lrincome,lrincome,d3['Response'])"
   ]
  },
  {
   "cell_type": "code",
   "execution_count": 166,
   "id": "eda7f94e",
   "metadata": {},
   "outputs": [
    {
     "data": {
      "image/png": "[encoded data removed]",
      "text/plain": [
       "<Figure size 1080x576 with 6 Axes>"
      ]
     },
     "metadata": {
      "needs_background": "light"
     },
     "output_type": "display_data"
    }
   ],
   "source": [
    "d3.hist(figsize=(15,8))\n",
    "plt.show()"
   ]
  },
  {
   "cell_type": "code",
   "execution_count": 167,
   "id": "b69e6a54",
   "metadata": {},
   "outputs": [
    {
     "data": {
      "image/png": "[encoded data removed]",
      "text/plain": [
       "<Figure size 432x288 with 1 Axes>"
      ]
     },
     "metadata": {
      "needs_background": "light"
     },
     "output_type": "display_data"
    }
   ],
   "source": [
    "#outliers removed\n",
    "sns.boxplot(x= d3['Response'], color='lightblue')\n",
    "plt.show()"
   ]
  },
  {
   "cell_type": "code",
   "execution_count": 168,
   "id": "88c4cfa9",
   "metadata": {},
   "outputs": [],
   "source": [
    "#changing numerical variables to categorical variables\n",
    "d3['Dentist']= pd.Categorical(d3['Dentist'])\n",
    "d3['Method']= pd.Categorical(d3['Method'])\n",
    "d3['Alloy']= pd.Categorical(d3['Alloy'])\n",
    "d3['Temp']=pd.Categorical(d3['Temp'])"
   ]
  },
  {
   "cell_type": "code",
   "execution_count": 169,
   "id": "1d8ee6b2",
   "metadata": {},
   "outputs": [
    {
     "name": "stdout",
     "output_type": "stream",
     "text": [
      "<class 'pandas.core.frame.DataFrame'>\n",
      "RangeIndex: 90 entries, 0 to 89\n",
      "Data columns (total 5 columns):\n",
      " #   Column    Non-Null Count  Dtype   \n",
      "---  ------    --------------  -----   \n",
      " 0   Dentist   90 non-null     category\n",
      " 1   Method    90 non-null     category\n",
      " 2   Alloy     90 non-null     category\n",
      " 3   Temp      90 non-null     category\n",
      " 4   Response  90 non-null     float64 \n",
      "dtypes: category(4), float64(1)\n",
      "memory usage: 1.8 KB\n"
     ]
    }
   ],
   "source": [
    "d3.info()"
   ]
  },
  {
   "cell_type": "code",
   "execution_count": 194,
   "id": "4569cd22",
   "metadata": {},
   "outputs": [],
   "source": [
    "#forming subcategories\n",
    "Dentist_1 = d3[d3['Dentist']==1]['Response']\n",
    "Dentist_2 = d3[d3['Dentist']==2]['Response']\n",
    "Dentist_3 = d3[d3['Dentist']==3]['Response']\n",
    "Dentist_4 = d3[d3['Dentist']==4]['Response']\n",
    "Dentist_5 = d3[d3['Dentist']==5]['Response']\n",
    "\n",
    "Method_1 = d3[d3['Method']==1]['Response']\n",
    "Method_2 = d3[d3['Method']==2]['Response']\n",
    "Method_3 = d3[d3['Method']==3]['Response']\n",
    "\n",
    "Alloy_1 = d3[d3['Alloy']==1]['Response']\n",
    "Alloy_2 = d3[d3['Alloy']==2]['Response']\n",
    "Alloy_3 = d3[d3['Alloy']==3]['Response']\n",
    "\n",
    "Temp_1 = d3[d3['Temp']==1500]['Response']\n",
    "Temp_2 = d3[d3['Temp']==1600]['Response']\n",
    "Temp_3 = d3[d3['Temp']==1700]['Response']"
   ]
  },
  {
   "cell_type": "code",
   "execution_count": 171,
   "id": "64f58cf9",
   "metadata": {},
   "outputs": [
    {
     "name": "stdout",
     "output_type": "stream",
     "text": [
      "18\n",
      "18\n",
      "18\n",
      "18\n",
      "18\n"
     ]
    }
   ],
   "source": [
    "#checking value counts of each group\n",
    "print(len(Dentist_1))\n",
    "print(len(Dentist_2))\n",
    "print(len(Dentist_3))\n",
    "print(len(Dentist_4))\n",
    "print(len(Dentist_5))"
   ]
  },
  {
   "cell_type": "code",
   "execution_count": 172,
   "id": "edefe451",
   "metadata": {},
   "outputs": [
    {
     "name": "stdout",
     "output_type": "stream",
     "text": [
      "30\n",
      "30\n",
      "30\n"
     ]
    }
   ],
   "source": [
    "print(len(Method_1))\n",
    "print(len(Method_2))\n",
    "print(len(Method_3))"
   ]
  },
  {
   "cell_type": "code",
   "execution_count": 173,
   "id": "2a11d458",
   "metadata": {},
   "outputs": [
    {
     "name": "stdout",
     "output_type": "stream",
     "text": [
      "45\n",
      "45\n"
     ]
    }
   ],
   "source": [
    "print(len(Alloy_1))\n",
    "print(len(Alloy_2))"
   ]
  },
  {
   "cell_type": "code",
   "execution_count": 174,
   "id": "475182ff",
   "metadata": {},
   "outputs": [
    {
     "name": "stdout",
     "output_type": "stream",
     "text": [
      "30\n",
      "30\n",
      "30\n"
     ]
    }
   ],
   "source": [
    "print(len(Temp_1))\n",
    "print(len(Temp_2))\n",
    "print(len(Temp_3))"
   ]
  },
  {
   "cell_type": "code",
   "execution_count": 175,
   "id": "0aa57bcd",
   "metadata": {},
   "outputs": [],
   "source": [
    "#checking normalcy"
   ]
  },
  {
   "cell_type": "code",
   "execution_count": 176,
   "id": "7fe04ed0",
   "metadata": {},
   "outputs": [
    {
     "name": "stdout",
     "output_type": "stream",
     "text": [
      "ShapiroResult(statistic=0.9512528777122498, pvalue=0.44500911235809326)\n",
      "ShapiroResult(statistic=0.9665580987930298, pvalue=0.731051504611969)\n",
      "ShapiroResult(statistic=0.9573882818222046, pvalue=0.5520997643470764)\n",
      "\n",
      "\n",
      "ShapiroResult(statistic=0.9796932339668274, pvalue=0.8173373937606812)\n",
      "ShapiroResult(statistic=0.9809848666191101, pvalue=0.8510975241661072)\n",
      "ShapiroResult(statistic=0.8871709704399109, pvalue=0.004136798437684774)\n",
      "\n",
      "\n",
      "ShapiroResult(statistic=0.8991953134536743, pvalue=0.000894434517249465)\n",
      "ShapiroResult(statistic=0.927866518497467, pvalue=0.007890536449849606)\n",
      "\n",
      "\n",
      "ShapiroResult(statistic=0.9331822395324707, pvalue=0.0596865713596344)\n",
      "ShapiroResult(statistic=0.9791679382324219, pvalue=0.8030202984809875)\n",
      "ShapiroResult(statistic=0.9185514450073242, pvalue=0.02460181713104248)\n"
     ]
    }
   ],
   "source": [
    "from scipy import stats\n",
    "#The Shapiro-Wilk test tests the null hypothesis that the data was drawn from a normal distribution.\n",
    "#alpha = 0.05\n",
    "print(stats.shapiro([Dentist_1]))\n",
    "print(stats.shapiro([Dentist_2]))\n",
    "print(stats.shapiro([Dentist_3]))\n",
    "\n",
    "print('\\n')\n",
    "print(stats.shapiro([Method_1]))\n",
    "print(stats.shapiro([Method_2]))\n",
    "print(stats.shapiro([Method_3]))\n",
    "\n",
    "print('\\n')\n",
    "print(stats.shapiro([Alloy_1]))\n",
    "print(stats.shapiro([Alloy_2]))\n",
    "\n",
    "print('\\n')\n",
    "print(stats.shapiro([Temp_1]))\n",
    "print(stats.shapiro([Temp_2]))\n",
    "print(stats.shapiro([Temp_3]))"
   ]
  },
  {
   "cell_type": "code",
   "execution_count": 177,
   "id": "778df0a9",
   "metadata": {
    "scrolled": false
   },
   "outputs": [
    {
     "name": "stdout",
     "output_type": "stream",
     "text": [
      "AndersonResult(statistic=0.4799398656918825, critical_values=array([0.503, 0.573, 0.687, 0.802, 0.954]), significance_level=array([15. , 10. ,  5. ,  2.5,  1. ]))\n",
      "AndersonResult(statistic=0.18489207423293763, critical_values=array([0.503, 0.573, 0.687, 0.802, 0.954]), significance_level=array([15. , 10. ,  5. ,  2.5,  1. ]))\n",
      "AndersonResult(statistic=0.31139490001785575, critical_values=array([0.503, 0.573, 0.687, 0.802, 0.954]), significance_level=array([15. , 10. ,  5. ,  2.5,  1. ]))\n",
      "AndersonResult(statistic=0.2445499504870412, critical_values=array([0.521, 0.593, 0.712, 0.83 , 0.988]), significance_level=array([15. , 10. ,  5. ,  2.5,  1. ]))\n",
      "AndersonResult(statistic=0.29115203487535624, critical_values=array([0.521, 0.593, 0.712, 0.83 , 0.988]), significance_level=array([15. , 10. ,  5. ,  2.5,  1. ]))\n",
      "AndersonResult(statistic=0.25772274137976225, critical_values=array([0.521, 0.593, 0.712, 0.83 , 0.988]), significance_level=array([15. , 10. ,  5. ,  2.5,  1. ]))\n"
     ]
    }
   ],
   "source": [
    "#Anderson Darling Test if Shapiro fails\n",
    "print(stats.anderson(Dentist_1,dist='norm'))\n",
    "print(stats.anderson(Dentist_2,dist='norm'))\n",
    "print(stats.anderson(Dentist_3,dist='norm'))\n",
    "\n",
    "print(stats.anderson(Method_1,dist='norm'))\n",
    "print(stats.anderson(Method_2,dist='norm'))\n",
    "\n",
    "print(stats.anderson(Temp_2,dist='norm'))"
   ]
  },
  {
   "cell_type": "code",
   "execution_count": 178,
   "id": "ebdbe626",
   "metadata": {},
   "outputs": [
    {
     "name": "stdout",
     "output_type": "stream",
     "text": [
      "LeveneResult(statistic=1.3736027902703822, pvalue=0.26240029040554935)\n",
      "LeveneResult(statistic=3.5342167607107005, pvalue=0.03344085077476839)\n",
      "LeveneResult(statistic=2.02655886945465, pvalue=0.15810620474519305)\n",
      "LeveneResult(statistic=0.11898237456285736, pvalue=0.887967666035956)\n"
     ]
    }
   ],
   "source": [
    "#checking Homogeniety\n",
    "#The Levene test tests the null hypothesis that all input samples are from populations with equal variances.\n",
    "#alpha = 0.05\n",
    "print(stats.levene(Dentist_1,Dentist_2,Dentist_3))\n",
    "print(stats.levene(Method_1,Method_2,Method_3))\n",
    "print(stats.levene(Alloy_1,Alloy_2))\n",
    "print(stats.levene(Temp_1,Temp_2,Temp_3))\n"
   ]
  },
  {
   "cell_type": "markdown",
   "id": "49d97931",
   "metadata": {},
   "source": [
    "In three variables pvalue is more than alpha, so fail to reject H0, and variances are equal"
   ]
  }
 ],
 "metadata": {
  "kernelspec": {
   "display_name": "Python 3 (ipykernel)",
   "language": "python",
   "name": "python3"
  },
  "language_info": {
   "codemirror_mode": {
    "name": "ipython",
    "version": 3
   },
   "file_extension": ".py",
   "mimetype": "text/x-python",
   "name": "python",
   "nbconvert_exporter": "python",
   "pygments_lexer": "ipython3",
   "version": "3.9.7"
  }
 },
 "nbformat": 4,
 "nbformat_minor": 5
}
